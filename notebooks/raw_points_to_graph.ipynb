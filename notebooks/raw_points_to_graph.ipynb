{
 "cells": [
  {
   "cell_type": "code",
   "execution_count": 1,
   "metadata": {},
   "outputs": [
    {
     "name": "stdout",
     "output_type": "stream",
     "text": [
      "+--------------------+------+----+---------+-----------+---------+------+------+-----------+-------+-------+----+------+---------+----+------------+------+-----+---------+------------------+---------+----+-------+---------+----+--------+--------------------+------+--------+----------+----------+-----------+----------+-----------+-----+------------------+-------+----+-----+------+------------+---------------+--------------------+--------------+----+-------+----+---+--------------------+---------+------+-------+------+---------+-------+--------------------+---------+--------------+----+--------+----+--------+------+-------+----------+----+---------+----+---------+-------+--------------+--------+-------+----+--------+-------+-----+--------+--------------+----+----------------+------+----+--------+------+---------+-------+----+-----+-----+------+----------+----+-----------+------+----+-----+----+----+-----+--------------+-------+----+--------------------+\n",
      "|                  id|ahuRef| air|analytics|armsAssetId|averazing|boiler|bypass|calendarRef|chilled|chiller| cmd|common|condenser|cool|coolingTower|damper|delta|      dis|          disMacro|discharge|  dk|economy|effective|elec|elecHeat|       elecMeterLoad|enable|entering|      enum|envizi_CCV|envizi_CCV2|envizi_HCV|envizi_HCV2|equip|          equipRef|exhaust| fan|fault|filter|gasMeterLoad|haystackConnRef|         haystackHis|haystackHisOld|heat|heating|help|his|              hisEnd|hisEndVal|hisErr|hisFunc| hisId|hisRollup|hisSize|            hisStart|hisStatus|hisTsPrecision| hot|humidity|hvac|imported|  kind|leaving|  levelRef| low|maxFlowSp| min|minFlowSp|minimum|       navName|nextTime|nextVal| occ|occSched|outside|point|pressure|projectAssetId|pump|       regionRef|return| run|schedule|sensor|sitePoint|siteRef|  sp|speed|stage|supply|targetType|temp|toBeDeleted|    tz|unit|valve| vav| vfd|water|waterMeterLoad|wetBulb|zone|                 mod|\n",
      "+--------------------+------+----+---------+-----------+---------+------+------+-----------+-------+-------+----+------+---------+----+------------+------+-----+---------+------------------+---------+----+-------+---------+----+--------+--------------------+------+--------+----------+----------+-----------+----------+-----------+-----+------------------+-------+----+-----+------+------------+---------------+--------------------+--------------+----+-------+----+---+--------------------+---------+------+-------+------+---------+-------+--------------------+---------+--------------+----+--------+----+--------+------+-------+----------+----+---------+----+---------+-------+--------------+--------+-------+----+--------+-------+-----+--------+--------------+----+----------------+------+----+--------+------+---------+-------+----+-----+-----+------+----------+----+-----------+------+----+-----+----+----+-----+--------------+-------+----+--------------------+\n",
      "|Site Building Inf...|  null|   ✓|        ✓|       null|     null|  null|  null|       null|   null|   null|null|  null|     null|null|        null|  null| null|      OAT|$equipRef $navName|     null|null|   null|     null|null|    null|                null|  null|    null|      null|      null|       null|      null|       null| null|Site Building Info|   null|null| null|  null|        null|        GA_WEBS|H.Margaret_St_1.M...|          null|null|   null|null|  ✓|12-Oct-2017 Thu 0...|22.359 °C|  null|   null|84.096|      max| 27,292|1-Jan-2017 Sun 00...|       ok|          null|null|    null|null|       ✓|Number|   null|Site Plant|null|     null|null|     null|   null|           OAT|    null|   null|null|    null|      ✓|    ✓|    null|          null|null|Western Corridor|  null|null|    null|     ✓|     null|   Site|null| null| null|  null|      null|   ✓|       null|Sydney|  °C| null|null|null| null|          null|   null|null|11-Apr-2017 Tue 0...|\n",
      "|Site Building Inf...|  null|   ✓|        ✓|       null|     null|  null|  null|       null|   null|   null|null|  null|     null|null|        null|  null| null|      OAH|$equipRef $navName|     null|null|   null|     null|null|    null|                null|  null|    null|      null|      null|       null|      null|       null| null|Site Building Info|   null|null| null|  null|        null|        GA_WEBS|H.Margaret_St_1.M...|          null|null|   null|null|  ✓|12-Oct-2017 Thu 0...| 67.959 %|  null|   null|84.095|      max| 27,292|1-Jan-2017 Sun 00...|       ok|          null|null|       ✓|null|       ✓|Number|   null|Site Plant|null|     null|null|     null|   null|           OAH|    null|   null|null|    null|      ✓|    ✓|    null|          null|null|Western Corridor|  null|null|    null|     ✓|     null|   Site|null| null| null|  null|      null|null|       null|Sydney|   %| null|null|null| null|          null|   null|null|11-Apr-2017 Tue 0...|\n",
      "|Site ACU 2 VSD St...|  null|null|        ✓|       null|     null|  null|  null|       null|   null|   null|   ✓|  null|     null|null|        null|  null| null|ACU-2_ENB|              null|        ✓|null|   null|     null|null|    null|                null|  null|    null|false,true|      null|       null|      null|       null| null|        Site ACU 2|   null|   ✓| null|  null|        null|        GA_WEBS|H.Margaret_St_1.M...|          null|null|   null|null|  ✓|12-Oct-2017 Thu 0...|     true|  null|   null|54.142|      max|  4,107|2-Jan-2015 Fri 06...|       ok|          1 ms|null|    null|null|       ✓|  Bool|   null|Site Plant|null|     null|null|     null|   null|VSD Start Stop|    null|   null|null|    null|   null|    ✓|    null|          null|null|Western Corridor|  null|   ✓|    null|  null|     null|   Site|null| null| null|     ✓|      null|null|       null|Sydney|null| null|null|null| null|          null|   null|null|4-May-2017 Thu 02...|\n",
      "|Site ACU 2 Fan St...|  null|null|        ✓|       null|     null|  null|  null|       null|   null|   null|null|  null|     null|null|        null|  null| null|ACU-2_STS|              null|        ✓|null|   null|     null|null|    null|Site MSB 1 - MSSB...|  null|    null|false,true|      null|       null|      null|       null| null|        Site ACU 2|   null|   ✓| null|  null|        null|        GA_WEBS|H.Margaret_St_1.M...|          null|null|   null|null|  ✓|12-Oct-2017 Thu 0...|     true|  null|   null| 54.13|      max| 11,358|2-Jan-2015 Fri 06...|       ok|          1 ms|null|    null|null|       ✓|  Bool|   null|Site Plant|null|     null|null|     null|   null|    Fan Status|    null|   null|null|    null|   null|    ✓|    null|          null|null|Western Corridor|  null|   ✓|    null|     ✓|     null|   Site|null| null| null|  null|      null|null|       null|Sydney|null| null|null|null| null|          null|   null|null|24-Aug-2017 Thu 0...|\n",
      "|Site ACU 2 VSD Speed|  null|null|        ✓|       null|     null|  null|  null|       null|   null|   null|   ✓|  null|     null|null|        null|  null| null|ACU-2_SPD|              null|        ✓|null|   null|     null|null|    null|                null|  null|    null|      null|      null|       null|      null|       null| null|        Site ACU 2|   null|   ✓| null|  null|        null|        GA_WEBS|H.Margaret_St_1.M...|          null|null|   null|null|  ✓|12-Oct-2017 Thu 0...|     50 %|  null|   null|54.141|      max| 97,466|1-Jan-2015 Thu 00...|       ok|          null|null|    null|null|       ✓|Number|   null|Site Plant|null|     null|null|     null|   null|     VSD Speed|    null|   null|null|    null|   null|    ✓|    null|          null|null|Western Corridor|  null|null|    null|  null|     null|   Site|null|    ✓| null|  null|      null|null|       null|Sydney|   %| null|null|   ✓| null|          null|   null|null|19-Apr-2017 Wed 0...|\n",
      "+--------------------+------+----+---------+-----------+---------+------+------+-----------+-------+-------+----+------+---------+----+------------+------+-----+---------+------------------+---------+----+-------+---------+----+--------+--------------------+------+--------+----------+----------+-----------+----------+-----------+-----+------------------+-------+----+-----+------+------------+---------------+--------------------+--------------+----+-------+----+---+--------------------+---------+------+-------+------+---------+-------+--------------------+---------+--------------+----+--------+----+--------+------+-------+----------+----+---------+----+---------+-------+--------------+--------+-------+----+--------+-------+-----+--------+--------------+----+----------------+------+----+--------+------+---------+-------+----+-----+-----+------+----------+----+-----------+------+----+-----+----+----+-----+--------------+-------+----+--------------------+\n",
      "only showing top 5 rows\n",
      "\n"
     ]
    }
   ],
   "source": [
    "# Reading points metadata\n",
    "raw_points_df = sqlContext.read.format('com.databricks.spark.csv') \\\n",
    "               .options(header='true', inferSchema='true') \\\n",
    "               .load('timeseries/input/points.csv')\n",
    "raw_points_df = raw_points_df.drop(\"_c0\")\n",
    "raw_points_df.show(5)"
   ]
  },
  {
   "cell_type": "code",
   "execution_count": 2,
   "metadata": {},
   "outputs": [
    {
     "name": "stdout",
     "output_type": "stream",
     "text": [
      "+------------+-------+----------+------------------+----+------+\n",
      "|          id|siteRef|  levelRef|          equipRef|unit|  kind|\n",
      "+------------+-------+----------+------------------+----+------+\n",
      "|         OAT|   Site|Site Plant|Site Building Info|  °C|Number|\n",
      "|         OAH|   Site|Site Plant|Site Building Info|   %|Number|\n",
      "|   ACU-2_ENB|   Site|Site Plant|        Site ACU 2|null|  Bool|\n",
      "|   ACU-2_STS|   Site|Site Plant|        Site ACU 2|null|  Bool|\n",
      "|   ACU-2_SPD|   Site|Site Plant|        Site ACU 2|   %|Number|\n",
      "|  ACU-2_SAPR|   Site|Site Plant|        Site ACU 2|  Pa|Number|\n",
      "|ACU-2_SAPRSP|   Site|Site Plant|        Site ACU 2|  Pa|Number|\n",
      "|   ACU-2_SAT|   Site|Site Plant|        Site ACU 2|  °C|Number|\n",
      "| ACU-2_SATSP|   Site|Site Plant|        Site ACU 2|  °C|Number|\n",
      "|   ACU-2_RAT|   Site|Site Plant|        Site ACU 2|  °C|Number|\n",
      "|   ACU-2_HCV|   Site|Site Plant|        Site ACU 2|   %|Number|\n",
      "|   ACU-2_CCV|   Site|Site Plant|        Site ACU 2|   %|Number|\n",
      "|  ACU-2_CCV2|   Site|Site Plant|        Site ACU 2|   %|Number|\n",
      "|   ACU-2_ECD|   Site|Site Plant|        Site ACU 2|   %|Number|\n",
      "|  CDWP-2_ENB|   Site|Site Plant|       Site CDWP 2|null|  Bool|\n",
      "|  CDWP-2_STS|   Site|Site Plant|       Site CDWP 2|null|  Bool|\n",
      "|  CDWP-2_SPD|   Site|Site Plant|       Site CDWP 2|   %|Number|\n",
      "|Boiler-2_ENB|   Site|Site Plant|     Site Boiler 2|null|  Bool|\n",
      "|Boiler-2_STS|   Site|Site Plant|     Site Boiler 2|null|  Bool|\n",
      "|Boiler-2_EWT|   Site|Site Plant| Site Boiler Plant|  °C|Number|\n",
      "+------------+-------+----------+------------------+----+------+\n",
      "only showing top 20 rows\n",
      "\n"
     ]
    }
   ],
   "source": [
    "#getting vertices data\n",
    "vertices = raw_points_df.select(\"dis\", \"siteRef\", \"levelRef\", \"equipRef\",\"unit\", \"kind\")\n",
    "vertices = vertices.withColumnRenamed(\"dis\", \"id\")\n",
    "vertices.show()"
   ]
  },
  {
   "cell_type": "code",
   "execution_count": 3,
   "metadata": {},
   "outputs": [
    {
     "name": "stdout",
     "output_type": "stream",
     "text": [
      "+---------+---------+------------+\n",
      "|      src|      dst|relationship|\n",
      "+---------+---------+------------+\n",
      "|      OAT|      OAT|         air|\n",
      "|      OAT|      OAT|   analytics|\n",
      "|      OAT|      OAT|         his|\n",
      "|      OAT|      OAT|    imported|\n",
      "|      OAT|      OAT|     outside|\n",
      "|      OAT|      OAT|       point|\n",
      "|      OAT|      OAT|      sensor|\n",
      "|      OAT|      OAT|        temp|\n",
      "|      OAH|      OAH|         air|\n",
      "|      OAH|      OAH|   analytics|\n",
      "|      OAH|      OAH|         his|\n",
      "|      OAH|      OAH|    humidity|\n",
      "|      OAH|      OAH|    imported|\n",
      "|      OAH|      OAH|     outside|\n",
      "|      OAH|      OAH|       point|\n",
      "|      OAH|      OAH|      sensor|\n",
      "|ACU-2_ENB|ACU-2_ENB|   analytics|\n",
      "|ACU-2_ENB|ACU-2_ENB|         cmd|\n",
      "|ACU-2_ENB|ACU-2_ENB|   discharge|\n",
      "|ACU-2_ENB|ACU-2_ENB|         fan|\n",
      "+---------+---------+------------+\n",
      "only showing top 20 rows\n",
      "\n"
     ]
    }
   ],
   "source": [
    "# get edges df consisting src,dest,relationship\n",
    "from pyspark.sql import Row\n",
    "\n",
    "schema = [\"src\", \"dst\", \"relationship\"]\n",
    "points_cols = raw_points_df.columns\n",
    "\n",
    "def loopEdges(row):\n",
    "    src_val = row['dis']\n",
    "    rows = []\n",
    "    for col in points_cols:\n",
    "        value = row[col]\n",
    "        if value == \"✓\":\n",
    "            edge = Row(src=src_val, dst=src_val, relationship=col)\n",
    "            rows.append(edge)\n",
    "    return rows\n",
    "\n",
    "edges_rdd = raw_points_df.rdd.flatMap(lambda row: loopEdges(row))\n",
    "edges = sqlContext.createDataFrame(edges_rdd)\n",
    "edges = edges.select(\"src\", \"dst\", \"relationship\")\n",
    "edges.show()"
   ]
  },
  {
   "cell_type": "code",
   "execution_count": 4,
   "metadata": {},
   "outputs": [],
   "source": [
    "#saving to csv\n",
    "vertices.write.csv(\"timeseries/graph/metadata/vertices.csv\", mode=\"overwrite\", header=True)\n",
    "edges.write.csv(\"timeseries/graph/metadata/edges.csv\", mode=\"overwrite\", header=True)"
   ]
  },
  {
   "cell_type": "code",
   "execution_count": null,
   "metadata": {},
   "outputs": [],
   "source": [
    ""
   ]
  }
 ],
 "metadata": {
  "kernelspec": {
   "display_name": "Python 3",
   "language": "python",
   "name": "python3"
  },
  "language_info": {
   "codemirror_mode": {
    "name": "ipython",
    "version": 3.0
   },
   "file_extension": ".py",
   "mimetype": "text/x-python",
   "name": "python",
   "nbconvert_exporter": "python",
   "pygments_lexer": "ipython3",
   "version": "3.4.3"
  }
 },
 "nbformat": 4,
 "nbformat_minor": 2
}