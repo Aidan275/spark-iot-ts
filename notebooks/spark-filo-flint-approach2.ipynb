{
 "cells": [
  {
   "cell_type": "markdown",
   "metadata": {},
   "source": [
    "# Spark, FiloDB and Flint POC.\n",
    "## Separate Metadata and history approach"
   ]
  },
  {
   "cell_type": "code",
   "execution_count": 16,
   "metadata": {},
   "outputs": [
    {
     "name": "stdout",
     "output_type": "stream",
     "text": [
      "+-------------+--------------+-------------------+----------+-------+---------+-----+\n",
      "|    pointName|      equipRef|           datetime|  levelRef|siteRef|yearMonth|value|\n",
      "+-------------+--------------+-------------------+----------+-------+---------+-----+\n",
      "|Chiller-2_STS|Site Chiller 2|1507046744000000000|Site Plant|   Site|  2017-10|  0.0|\n",
      "|Chiller-2_ENB|Site Chiller 2|1507050417000000000|Site Plant|   Site|  2017-10|  0.0|\n",
      "|   CDWP-2_ENB|   Site CDWP 2|1507050476000000000|Site Plant|   Site|  2017-10|  0.0|\n",
      "|   CDWP-2_STS|   Site CDWP 2|1507050489000000000|Site Plant|   Site|  2017-10|  0.0|\n",
      "|   CHWP-2_ENB|   Site CHWP 2|1507050535000000000|Site Plant|   Site|  2017-10|  0.0|\n",
      "|   CHWP-2_STS|   Site CHWP 2|1507050551000000000|Site Plant|   Site|  2017-10|  0.0|\n",
      "| Boiler-1_STS| Site Boiler 1|1507544565000000000|Site Plant|   Site|  2017-10|  0.0|\n",
      "|    HWP-8_STS|    Site HWP 8|1507544634000000000|Site Plant|   Site|  2017-10|  0.0|\n",
      "| Boiler-2_STS| Site Boiler 2|1507545158000000000|Site Plant|   Site|  2017-10|  0.0|\n",
      "|    HWP-9_STS|    Site HWP 9|1507545171000000000|Site Plant|   Site|  2017-10|  0.0|\n",
      "|    ACU-5_ECD|    Site ACU 5|1507591359000000000|Site Plant|   Site|  2017-10|  0.0|\n",
      "|Chiller-1_ENB|Site Chiller 1|1507655465000000000|Site Plant|   Site|  2017-10|  0.0|\n",
      "|Chiller-1_STS|Site Chiller 1|1507655471000000000|Site Plant|   Site|  2017-10|  0.0|\n",
      "|   CDWP-1_ENB|   Site CDWP 1|1507655525000000000|Site Plant|   Site|  2017-10|  0.0|\n",
      "|   CDWP-1_STS|   Site CDWP 1|1507655538000000000|Site Plant|   Site|  2017-10|  0.0|\n",
      "|   CHWP-1_ENB|   Site CHWP 1|1507655583000000000|Site Plant|   Site|  2017-10|  0.0|\n",
      "|   CHWP-1_STS|   Site CHWP 1|1507655598000000000|Site Plant|   Site|  2017-10|  0.0|\n",
      "|    ACU-4_ECD|    Site ACU 4|1507658429000000000|Site Plant|   Site|  2017-10|  0.0|\n",
      "|Chiller-3_ENB|Site Chiller 3|1507658429000000000|Site Plant|   Site|  2017-10|  0.0|\n",
      "|    ACU-5_ENB|    Site ACU 5|1507658453000000000|Site Plant|   Site|  2017-10|  0.0|\n",
      "+-------------+--------------+-------------------+----------+-------+---------+-----+\n",
      "only showing top 20 rows\n",
      "\n"
     ]
    }
   ],
   "source": [
    "from au.com.gegroup.ts.graphframes_reader import GraphFramesReader\n",
    "reader = GraphFramesReader(sqlContext, \"iot_history_metaless\", \"iotDF\", \"siteRef = 'Site'\")\n",
    "reader.get_df().show()"
   ]
  },
  {
   "cell_type": "code",
   "execution_count": 17,
   "metadata": {},
   "outputs": [],
   "source": [
    "from au.com.gegroup.ts.datetime.utils import *\n",
    "import pandas as pd\n",
    "# todo different options for reading history like yesterday(), currentMonth(), last(\"24h\"), etc\n",
    "swt_ts = reader.metadata(\"supply and water and temp and sensor and equipRef != 'Site Chiller Plant'\").history(last(pd.Timedelta(\"90 days\"))).read()\n",
    "lwt_ts = reader.metadata(\"return and water and temp and sensor and equipRef != 'Site Chiller Plant'\").history(last(pd.Timedelta(\"90 days\"))).read()"
   ]
  },
  {
   "cell_type": "code",
   "execution_count": 18,
   "metadata": {},
   "outputs": [
    {
     "name": "stdout",
     "output_type": "stream",
     "text": [
      "+-------------------+------------------+---------------+------------------+----------+-------+\n",
      "|               time|             value|      pointName|          equipRef|  levelRef|siteRef|\n",
      "+-------------------+------------------+---------------+------------------+----------+-------+\n",
      "|1507679100000000000| 24.50189971923828|   Boiler-1_LWT|     Site Boiler 1|Site Plant|   Site|\n",
      "|1507679100000000000| 24.92799949645996|   Boiler-2_LWT|     Site Boiler 2|Site Plant|   Site|\n",
      "|1507679700000000000|20.811500549316406|Tenant-CT-2_LWT|  Site Tenant-CT-2|Site Plant|   Site|\n",
      "|1507679880000000000|22.670900344848633|        CT1_LWT|Site Chiller Plant|Site Plant|   Site|\n",
      "|1507679880000000000|22.670900344848633|        CT2_LWT|Site Chiller Plant|Site Plant|   Site|\n",
      "|1507679880000000000|22.670900344848633| Chiller-1_ECWT|Site Chiller Plant|Site Plant|   Site|\n",
      "|1507679880000000000|15.946599960327148|Chiller-1_LCHWT|    Site Chiller 1|Site Plant|   Site|\n",
      "|1507679880000000000|22.670900344848633| Chiller-2_ECWT|Site Chiller Plant|Site Plant|   Site|\n",
      "|1507679880000000000|  22.9867000579834|Chiller-2_LCHWT|    Site Chiller 2|Site Plant|   Site|\n",
      "|1507679880000000000|22.670900344848633| Chiller-3_ECWT|Site Chiller Plant|Site Plant|   Site|\n",
      "|1507679880000000000| 18.11870002746582|Chiller-3_LCHWT|    Site Chiller 3|Site Plant|   Site|\n",
      "|1507680000000000000|24.497900009155273|   Boiler-1_LWT|     Site Boiler 1|Site Plant|   Site|\n",
      "|1507680000000000000|24.908199310302734|   Boiler-2_LWT|     Site Boiler 2|Site Plant|   Site|\n",
      "|1507680000000000000|22.659799575805664|        CT1_LWT|Site Chiller Plant|Site Plant|   Site|\n",
      "|1507680000000000000|22.659799575805664|        CT2_LWT|Site Chiller Plant|Site Plant|   Site|\n",
      "|1507680000000000000|22.659799575805664| Chiller-1_ECWT|Site Chiller Plant|Site Plant|   Site|\n",
      "|1507680000000000000|15.959600448608398|Chiller-1_LCHWT|    Site Chiller 1|Site Plant|   Site|\n",
      "|1507680000000000000|22.659799575805664| Chiller-2_ECWT|Site Chiller Plant|Site Plant|   Site|\n",
      "|1507680000000000000| 22.98509979248047|Chiller-2_LCHWT|    Site Chiller 2|Site Plant|   Site|\n",
      "|1507680000000000000|22.659799575805664| Chiller-3_ECWT|Site Chiller Plant|Site Plant|   Site|\n",
      "+-------------------+------------------+---------------+------------------+----------+-------+\n",
      "only showing top 20 rows\n",
      "\n"
     ]
    }
   ],
   "source": [
    "swt_ts.show()"
   ]
  },
  {
   "cell_type": "code",
   "execution_count": 19,
   "metadata": {},
   "outputs": [
    {
     "name": "stdout",
     "output_type": "stream",
     "text": [
      "+-------------------+------------------+---------------+------------------+----------+-------+\n",
      "|               time|             value|      pointName|          equipRef|  levelRef|siteRef|\n",
      "+-------------------+------------------+---------------+------------------+----------+-------+\n",
      "|1507679100000000000|27.546600341796875|Tenant-CT-1_EWT|  Site Tenant-CT-1|Site Plant|   Site|\n",
      "|1507679100000000000|20.219100952148438|Tenant-CT-2_EWT|  Site Tenant-CT-2|Site Plant|   Site|\n",
      "|1507679880000000000| 25.53059959411621|        CT2_EWT|Site Chiller Plant|Site Plant|   Site|\n",
      "|1507679880000000000|14.758399963378906|Chiller-1_ECHWT|    Site Chiller 1|Site Plant|   Site|\n",
      "|1507679880000000000| 25.53059959411621| Chiller-1_LCWT|Site Chiller Plant|Site Plant|   Site|\n",
      "|1507679880000000000|22.425500869750977|Chiller-2_ECHWT|    Site Chiller 2|Site Plant|   Site|\n",
      "|1507679880000000000| 25.53059959411621| Chiller-2_LCWT|Site Chiller Plant|Site Plant|   Site|\n",
      "|1507679880000000000|18.954700469970703|Chiller-3_ECHWT|    Site Chiller 3|Site Plant|   Site|\n",
      "|1507679880000000000| 25.53059959411621| Chiller-3_LCWT|Site Chiller Plant|Site Plant|   Site|\n",
      "|1507680000000000000|25.524200439453125|        CT2_EWT|Site Chiller Plant|Site Plant|   Site|\n",
      "|1507680000000000000|14.768099784851074|Chiller-1_ECHWT|    Site Chiller 1|Site Plant|   Site|\n",
      "|1507680000000000000|25.524200439453125| Chiller-1_LCWT|Site Chiller Plant|Site Plant|   Site|\n",
      "|1507680000000000000|22.426700592041016|Chiller-2_ECHWT|    Site Chiller 2|Site Plant|   Site|\n",
      "|1507680000000000000|25.524200439453125| Chiller-2_LCWT|Site Chiller Plant|Site Plant|   Site|\n",
      "|1507680000000000000|18.955299377441406|Chiller-3_ECHWT|    Site Chiller 3|Site Plant|   Site|\n",
      "|1507680000000000000|25.524200439453125| Chiller-3_LCWT|Site Chiller Plant|Site Plant|   Site|\n",
      "|1507680000000000000| 27.31100082397461|Tenant-CT-1_EWT|  Site Tenant-CT-1|Site Plant|   Site|\n",
      "|1507680000000000000|20.128999710083008|Tenant-CT-2_EWT|  Site Tenant-CT-2|Site Plant|   Site|\n",
      "|1507680120000000000|25.519500732421875|        CT2_EWT|Site Chiller Plant|Site Plant|   Site|\n",
      "|1507680120000000000|14.774499893188477|Chiller-1_ECHWT|    Site Chiller 1|Site Plant|   Site|\n",
      "+-------------------+------------------+---------------+------------------+----------+-------+\n",
      "only showing top 20 rows\n",
      "\n"
     ]
    }
   ],
   "source": [
    "lwt_ts.show()"
   ]
  },
  {
   "cell_type": "code",
   "execution_count": 20,
   "metadata": {},
   "outputs": [
    {
     "name": "stdout",
     "output_type": "stream",
     "text": [
      "+-------------------+------------------+---------------+------------------+----------+-------+------------------+---------------+\n",
      "|               time|         lwt_value|  lwt_pointName|          equipRef|  levelRef|siteRef|         swt_value|  swt_pointName|\n",
      "+-------------------+------------------+---------------+------------------+----------+-------+------------------+---------------+\n",
      "|1507679100000000000|27.546600341796875|Tenant-CT-1_EWT|  Site Tenant-CT-1|Site Plant|   Site|              null|           null|\n",
      "|1507679100000000000|20.219100952148438|Tenant-CT-2_EWT|  Site Tenant-CT-2|Site Plant|   Site|              null|           null|\n",
      "|1507679880000000000| 25.53059959411621|        CT2_EWT|Site Chiller Plant|Site Plant|   Site|22.670900344848633| Chiller-3_ECWT|\n",
      "|1507679880000000000|14.758399963378906|Chiller-1_ECHWT|    Site Chiller 1|Site Plant|   Site|15.946599960327148|Chiller-1_LCHWT|\n",
      "|1507679880000000000| 25.53059959411621| Chiller-1_LCWT|Site Chiller Plant|Site Plant|   Site|22.670900344848633| Chiller-3_ECWT|\n",
      "|1507679880000000000|22.425500869750977|Chiller-2_ECHWT|    Site Chiller 2|Site Plant|   Site|  22.9867000579834|Chiller-2_LCHWT|\n",
      "|1507679880000000000| 25.53059959411621| Chiller-2_LCWT|Site Chiller Plant|Site Plant|   Site|22.670900344848633| Chiller-3_ECWT|\n",
      "|1507679880000000000|18.954700469970703|Chiller-3_ECHWT|    Site Chiller 3|Site Plant|   Site| 18.11870002746582|Chiller-3_LCHWT|\n",
      "|1507679880000000000| 25.53059959411621| Chiller-3_LCWT|Site Chiller Plant|Site Plant|   Site|22.670900344848633| Chiller-3_ECWT|\n",
      "|1507680000000000000|25.524200439453125|        CT2_EWT|Site Chiller Plant|Site Plant|   Site|22.659799575805664| Chiller-3_ECWT|\n",
      "|1507680000000000000|14.768099784851074|Chiller-1_ECHWT|    Site Chiller 1|Site Plant|   Site|15.959600448608398|Chiller-1_LCHWT|\n",
      "|1507680000000000000|25.524200439453125| Chiller-1_LCWT|Site Chiller Plant|Site Plant|   Site|22.659799575805664| Chiller-3_ECWT|\n",
      "|1507680000000000000|22.426700592041016|Chiller-2_ECHWT|    Site Chiller 2|Site Plant|   Site| 22.98509979248047|Chiller-2_LCHWT|\n",
      "|1507680000000000000|25.524200439453125| Chiller-2_LCWT|Site Chiller Plant|Site Plant|   Site|22.659799575805664| Chiller-3_ECWT|\n",
      "|1507680000000000000|18.955299377441406|Chiller-3_ECHWT|    Site Chiller 3|Site Plant|   Site|18.137500762939453|Chiller-3_LCHWT|\n",
      "|1507680000000000000|25.524200439453125| Chiller-3_LCWT|Site Chiller Plant|Site Plant|   Site|22.659799575805664| Chiller-3_ECWT|\n",
      "|1507680000000000000| 27.31100082397461|Tenant-CT-1_EWT|  Site Tenant-CT-1|Site Plant|   Site|              null|           null|\n",
      "|1507680000000000000|20.128999710083008|Tenant-CT-2_EWT|  Site Tenant-CT-2|Site Plant|   Site| 20.75790023803711|Tenant-CT-2_LWT|\n",
      "|1507680120000000000|25.519500732421875|        CT2_EWT|Site Chiller Plant|Site Plant|   Site|22.652799606323242| Chiller-3_ECWT|\n",
      "|1507680120000000000|14.774499893188477|Chiller-1_ECHWT|    Site Chiller 1|Site Plant|   Site|15.966099739074707|Chiller-1_LCHWT|\n",
      "+-------------------+------------------+---------------+------------------+----------+-------+------------------+---------------+\n",
      "only showing top 20 rows\n",
      "\n"
     ]
    }
   ],
   "source": [
    "from au.com.gegroup.ts.spark.utils import join_keys\n",
    "# keys = [\"equipRef\", \"levelRef\"]\n",
    "joined_ts = lwt_ts.leftJoin(swt_ts, tolerance='1M', key=join_keys(), left_alias=\"lwt\", right_alias=\"swt\")\n",
    "joined_ts.show()"
   ]
  },
  {
   "cell_type": "code",
   "execution_count": 21,
   "metadata": {},
   "outputs": [],
   "source": [
    "from au.com.gegroup.ts.spark.utils import *\n",
    "filtered_df = joined_ts.filter(filter_null(\"lwt\", \"swt\"))"
   ]
  },
  {
   "cell_type": "code",
   "execution_count": 10,
   "metadata": {},
   "outputs": [
    {
     "name": "stdout",
     "output_type": "stream",
     "text": [
      "+-------------------+------------------+---------------+------------------+----------+-------+------------------+---------------+-------------------+\n",
      "|               time|         lwt_value|  lwt_pointName|          equipRef|  levelRef|siteRef|         swt_value|  swt_pointName|              delta|\n",
      "+-------------------+------------------+---------------+------------------+----------+-------+------------------+---------------+-------------------+\n",
      "|1507679880000000000| 25.53059959411621|        CT2_EWT|Site Chiller Plant|Site Plant|   Site|22.670900344848633| Chiller-3_ECWT|  2.859699249267578|\n",
      "|1507679880000000000|14.758399963378906|Chiller-1_ECHWT|    Site Chiller 1|Site Plant|   Site|15.946599960327148|Chiller-1_LCHWT|-1.1881999969482422|\n",
      "|1507679880000000000| 25.53059959411621| Chiller-1_LCWT|Site Chiller Plant|Site Plant|   Site|22.670900344848633| Chiller-3_ECWT|  2.859699249267578|\n",
      "|1507679880000000000|22.425500869750977|Chiller-2_ECHWT|    Site Chiller 2|Site Plant|   Site|  22.9867000579834|Chiller-2_LCHWT|-0.5611991882324219|\n",
      "|1507679880000000000| 25.53059959411621| Chiller-2_LCWT|Site Chiller Plant|Site Plant|   Site|22.670900344848633| Chiller-3_ECWT|  2.859699249267578|\n",
      "|1507679880000000000|18.954700469970703|Chiller-3_ECHWT|    Site Chiller 3|Site Plant|   Site| 18.11870002746582|Chiller-3_LCHWT| 0.8360004425048828|\n",
      "|1507679880000000000| 25.53059959411621| Chiller-3_LCWT|Site Chiller Plant|Site Plant|   Site|22.670900344848633| Chiller-3_ECWT|  2.859699249267578|\n",
      "|1507680000000000000|25.524200439453125|        CT2_EWT|Site Chiller Plant|Site Plant|   Site|22.659799575805664| Chiller-3_ECWT|  2.864400863647461|\n",
      "|1507680000000000000|14.768099784851074|Chiller-1_ECHWT|    Site Chiller 1|Site Plant|   Site|15.959600448608398|Chiller-1_LCHWT|-1.1915006637573242|\n",
      "|1507680000000000000|25.524200439453125| Chiller-1_LCWT|Site Chiller Plant|Site Plant|   Site|22.659799575805664| Chiller-3_ECWT|  2.864400863647461|\n",
      "|1507680000000000000|22.426700592041016|Chiller-2_ECHWT|    Site Chiller 2|Site Plant|   Site| 22.98509979248047|Chiller-2_LCHWT|-0.5583992004394531|\n",
      "|1507680000000000000|25.524200439453125| Chiller-2_LCWT|Site Chiller Plant|Site Plant|   Site|22.659799575805664| Chiller-3_ECWT|  2.864400863647461|\n",
      "|1507680000000000000|18.955299377441406|Chiller-3_ECHWT|    Site Chiller 3|Site Plant|   Site|18.137500762939453|Chiller-3_LCHWT| 0.8177986145019531|\n",
      "|1507680000000000000|25.524200439453125| Chiller-3_LCWT|Site Chiller Plant|Site Plant|   Site|22.659799575805664| Chiller-3_ECWT|  2.864400863647461|\n",
      "|1507680000000000000|20.128999710083008|Tenant-CT-2_EWT|  Site Tenant-CT-2|Site Plant|   Site| 20.75790023803711|Tenant-CT-2_LWT|-0.6289005279541016|\n",
      "|1507680120000000000|25.519500732421875|        CT2_EWT|Site Chiller Plant|Site Plant|   Site|22.652799606323242| Chiller-3_ECWT|  2.866701126098633|\n",
      "|1507680120000000000|14.774499893188477|Chiller-1_ECHWT|    Site Chiller 1|Site Plant|   Site|15.966099739074707|Chiller-1_LCHWT|-1.1915998458862305|\n",
      "|1507680120000000000|25.519500732421875| Chiller-1_LCWT|Site Chiller Plant|Site Plant|   Site|22.652799606323242| Chiller-3_ECWT|  2.866701126098633|\n",
      "|1507680120000000000| 22.42840003967285|Chiller-2_ECHWT|    Site Chiller 2|Site Plant|   Site|22.986000061035156|Chiller-2_LCHWT|-0.5576000213623047|\n",
      "|1507680120000000000|25.519500732421875| Chiller-2_LCWT|Site Chiller Plant|Site Plant|   Site|22.652799606323242| Chiller-3_ECWT|  2.866701126098633|\n",
      "+-------------------+------------------+---------------+------------------+----------+-------+------------------+---------------+-------------------+\n",
      "only showing top 20 rows\n",
      "\n"
     ]
    }
   ],
   "source": [
    "from pyspark.sql.functions import udf, col\n",
    "# user's rule to calculate deviation\n",
    "\n",
    "def delta(firstValue, secondValue):\n",
    "    return firstValue - secondValue\n",
    "    \n",
    "# spark's udf calling user's rule\n",
    "delta_udf = udf(lambda lwt_val, swt_val: delta(lwt_val, swt_val))\n",
    "\n",
    "rule_df = filtered_df.withColumn(\"delta\", delta_udf(get_value_col(\"lwt\"), get_value_col(\"swt\")))\n",
    "rule_df.show()"
   ]
  },
  {
   "cell_type": "code",
   "execution_count": 11,
   "metadata": {},
   "outputs": [],
   "source": [
    "rule_df.createOrReplaceTempView(\"ruleDf\")"
   ]
  },
  {
   "cell_type": "code",
   "execution_count": 12,
   "metadata": {},
   "outputs": [
    {
     "name": "stdout",
     "output_type": "stream",
     "text": [
      "+------------------+--------------------+-------------------+\n",
      "|          equipRef|          min(delta)|         max(delta)|\n",
      "+------------------+--------------------+-------------------+\n",
      "|    Site Chiller 1|-0.00629997253417...|  7.227100372314453|\n",
      "|    Site Chiller 2| -0.4890003204345703|-0.8651008605957031|\n",
      "|    Site Chiller 3|  0.4233999252319336|  9.285099029541016|\n",
      "|Site Chiller Plant| 0.04319953918457031|  7.701999664306641|\n",
      "|  Site Tenant-CT-2|-0.01070022583007...|0.09740066528320312|\n",
      "+------------------+--------------------+-------------------+\n",
      "\n"
     ]
    }
   ],
   "source": [
    "sqlContext.sql(\"select equipRef, min(delta), max(delta) from ruleDf group by equipRef order by equipRef ASC\").show()"
   ]
  },
  {
   "cell_type": "code",
   "execution_count": 13,
   "metadata": {},
   "outputs": [],
   "source": [
    "from au.com.gegroup.ts.writer import Writer\n",
    "# Writer(dataframe, dataset, row_keys)\n",
    "writer = Writer(rule_df, \"metaless_chiller_delta_oct2017\", \"time,swt_pointName,lwt_pointName,equipRef\")\n",
    "cols = [\"time\", \"equipRef\", \"swt_pointName\", \"lwt_pointName\", \"swt_value\", \"lwt_value\", \"delta\"]\n",
    "writer.cols(cols).mode(\"overwrite\").write()"
   ]
  },
  {
   "cell_type": "code",
   "execution_count": 15,
   "metadata": {},
   "outputs": [
    {
     "name": "stdout",
     "output_type": "stream",
     "text": [
      "+------------------+------------------+------------------+-------------------+-------------------+---------------+---------------+\n",
      "|          equipRef|         swt_value|         lwt_value|              delta|               time|  swt_pointName|  lwt_pointName|\n",
      "+------------------+------------------+------------------+-------------------+-------------------+---------------+---------------+\n",
      "|    Site Chiller 1|15.946599960327148|14.758399963378906|-1.1881999969482422|1507679880000000000|Chiller-1_LCHWT|Chiller-1_ECHWT|\n",
      "|    Site Chiller 2|  22.9867000579834|22.425500869750977|-0.5611991882324219|1507679880000000000|Chiller-2_LCHWT|Chiller-2_ECHWT|\n",
      "|Site Chiller Plant|22.670900344848633| 25.53059959411621|  2.859699249267578|1507679880000000000| Chiller-3_ECWT|        CT2_EWT|\n",
      "|Site Chiller Plant|22.670900344848633| 25.53059959411621|  2.859699249267578|1507679880000000000| Chiller-3_ECWT| Chiller-1_LCWT|\n",
      "|Site Chiller Plant|22.670900344848633| 25.53059959411621|  2.859699249267578|1507679880000000000| Chiller-3_ECWT| Chiller-2_LCWT|\n",
      "|Site Chiller Plant|22.670900344848633| 25.53059959411621|  2.859699249267578|1507679880000000000| Chiller-3_ECWT| Chiller-3_LCWT|\n",
      "|    Site Chiller 3| 18.11870002746582|18.954700469970703| 0.8360004425048828|1507679880000000000|Chiller-3_LCHWT|Chiller-3_ECHWT|\n",
      "|    Site Chiller 1|15.959600448608398|14.768099784851074|-1.1915006637573242|1507680000000000000|Chiller-1_LCHWT|Chiller-1_ECHWT|\n",
      "|    Site Chiller 2| 22.98509979248047|22.426700592041016|-0.5583992004394531|1507680000000000000|Chiller-2_LCHWT|Chiller-2_ECHWT|\n",
      "|Site Chiller Plant|22.659799575805664|25.524200439453125|  2.864400863647461|1507680000000000000| Chiller-3_ECWT|        CT2_EWT|\n",
      "|Site Chiller Plant|22.659799575805664|25.524200439453125|  2.864400863647461|1507680000000000000| Chiller-3_ECWT| Chiller-1_LCWT|\n",
      "|Site Chiller Plant|22.659799575805664|25.524200439453125|  2.864400863647461|1507680000000000000| Chiller-3_ECWT| Chiller-2_LCWT|\n",
      "|Site Chiller Plant|22.659799575805664|25.524200439453125|  2.864400863647461|1507680000000000000| Chiller-3_ECWT| Chiller-3_LCWT|\n",
      "|    Site Chiller 3|18.137500762939453|18.955299377441406| 0.8177986145019531|1507680000000000000|Chiller-3_LCHWT|Chiller-3_ECHWT|\n",
      "|  Site Tenant-CT-2| 20.75790023803711|20.128999710083008|-0.6289005279541016|1507680000000000000|Tenant-CT-2_LWT|Tenant-CT-2_EWT|\n",
      "|    Site Chiller 1|15.966099739074707|14.774499893188477|-1.1915998458862305|1507680120000000000|Chiller-1_LCHWT|Chiller-1_ECHWT|\n",
      "|    Site Chiller 2|22.986000061035156| 22.42840003967285|-0.5576000213623047|1507680120000000000|Chiller-2_LCHWT|Chiller-2_ECHWT|\n",
      "|Site Chiller Plant|22.652799606323242|25.519500732421875|  2.866701126098633|1507680120000000000| Chiller-3_ECWT|        CT2_EWT|\n",
      "|Site Chiller Plant|22.652799606323242|25.519500732421875|  2.866701126098633|1507680120000000000| Chiller-3_ECWT| Chiller-1_LCWT|\n",
      "|Site Chiller Plant|22.652799606323242|25.519500732421875|  2.866701126098633|1507680120000000000| Chiller-3_ECWT| Chiller-2_LCWT|\n",
      "+------------------+------------------+------------------+-------------------+-------------------+---------------+---------------+\n",
      "only showing top 20 rows\n",
      "\n"
     ]
    }
   ],
   "source": [
    "delta_reader = GraphFramesReader(sqlContext, \"metaless_chiller_delta_oct2017\", \"deltaDF\")\n",
    "delta_reader.get_df().show()"
   ]
  },
  {
   "cell_type": "code",
   "execution_count": null,
   "metadata": {},
   "outputs": [],
   "source": [
    ""
   ]
  }
 ],
 "metadata": {
  "kernelspec": {
   "display_name": "Python 3",
   "language": "python",
   "name": "python3"
  },
  "language_info": {
   "codemirror_mode": {
    "name": "ipython",
    "version": 3.0
   },
   "file_extension": ".py",
   "mimetype": "text/x-python",
   "name": "python",
   "nbconvert_exporter": "python",
   "pygments_lexer": "ipython3",
   "version": "3.4.3"
  }
 },
 "nbformat": 4,
 "nbformat_minor": 2
}