{
 "cells": [
  {
   "cell_type": "markdown",
   "metadata": {},
   "source": [
    "# Spark Filodb Read write"
   ]
  },
  {
   "cell_type": "markdown",
   "metadata": {},
   "source": [
    "### 1. Reading raw points"
   ]
  },
  {
   "cell_type": "code",
   "execution_count": 2,
   "metadata": {},
   "outputs": [
    {
     "name": "stdout",
     "output_type": "stream",
     "text": [
      "+--------------------+------+----+---------+-----------+---------+------+------+-----------+-------+-------+----+------+---------+----+------------+------+-----+---------+------------------+---------+----+-------+---------+----+--------+--------------------+------+--------+----------+----------+-----------+----------+-----------+-----+------------------+-------+----+-----+------+------------+---------------+--------------------+--------------+----+-------+----+---+--------------------+---------+------+-------+------+---------+-------+--------------------+---------+--------------+----+--------+----+--------+------+-------+----------+----+---------+----+---------+-------+--------------+--------+-------+----+--------+-------+-----+--------+--------------+----+----------------+------+----+--------+------+---------+-------+----+-----+-----+------+----------+----+-----------+------+----+-----+----+----+-----+--------------+-------+----+--------------------+\n",
      "|                  id|ahuRef| air|analytics|armsAssetId|averazing|boiler|bypass|calendarRef|chilled|chiller| cmd|common|condenser|cool|coolingTower|damper|delta|      dis|          disMacro|discharge|  dk|economy|effective|elec|elecHeat|       elecMeterLoad|enable|entering|      enum|envizi_CCV|envizi_CCV2|envizi_HCV|envizi_HCV2|equip|          equipRef|exhaust| fan|fault|filter|gasMeterLoad|haystackConnRef|         haystackHis|haystackHisOld|heat|heating|help|his|              hisEnd|hisEndVal|hisErr|hisFunc| hisId|hisRollup|hisSize|            hisStart|hisStatus|hisTsPrecision| hot|humidity|hvac|imported|  kind|leaving|  levelRef| low|maxFlowSp| min|minFlowSp|minimum|       navName|nextTime|nextVal| occ|occSched|outside|point|pressure|projectAssetId|pump|       regionRef|return| run|schedule|sensor|sitePoint|siteRef|  sp|speed|stage|supply|targetType|temp|toBeDeleted|    tz|unit|valve| vav| vfd|water|waterMeterLoad|wetBulb|zone|                 mod|\n",
      "+--------------------+------+----+---------+-----------+---------+------+------+-----------+-------+-------+----+------+---------+----+------------+------+-----+---------+------------------+---------+----+-------+---------+----+--------+--------------------+------+--------+----------+----------+-----------+----------+-----------+-----+------------------+-------+----+-----+------+------------+---------------+--------------------+--------------+----+-------+----+---+--------------------+---------+------+-------+------+---------+-------+--------------------+---------+--------------+----+--------+----+--------+------+-------+----------+----+---------+----+---------+-------+--------------+--------+-------+----+--------+-------+-----+--------+--------------+----+----------------+------+----+--------+------+---------+-------+----+-----+-----+------+----------+----+-----------+------+----+-----+----+----+-----+--------------+-------+----+--------------------+\n",
      "|Site Building Inf...|  null|   ✓|        ✓|       null|     null|  null|  null|       null|   null|   null|null|  null|     null|null|        null|  null| null|      OAT|$equipRef $navName|     null|null|   null|     null|null|    null|                null|  null|    null|      null|      null|       null|      null|       null| null|Site Building Info|   null|null| null|  null|        null|        GA_WEBS|H.Margaret_St_1.M...|          null|null|   null|null|  ✓|12-Oct-2017 Thu 0...|22.359 °C|  null|   null|84.096|      max| 27,292|1-Jan-2017 Sun 00...|       ok|          null|null|    null|null|       ✓|Number|   null|Site Plant|null|     null|null|     null|   null|           OAT|    null|   null|null|    null|      ✓|    ✓|    null|          null|null|Western Corridor|  null|null|    null|     ✓|     null|   Site|null| null| null|  null|      null|   ✓|       null|Sydney|  °C| null|null|null| null|          null|   null|null|11-Apr-2017 Tue 0...|\n",
      "|Site Building Inf...|  null|   ✓|        ✓|       null|     null|  null|  null|       null|   null|   null|null|  null|     null|null|        null|  null| null|      OAH|$equipRef $navName|     null|null|   null|     null|null|    null|                null|  null|    null|      null|      null|       null|      null|       null| null|Site Building Info|   null|null| null|  null|        null|        GA_WEBS|H.Margaret_St_1.M...|          null|null|   null|null|  ✓|12-Oct-2017 Thu 0...| 67.959 %|  null|   null|84.095|      max| 27,292|1-Jan-2017 Sun 00...|       ok|          null|null|       ✓|null|       ✓|Number|   null|Site Plant|null|     null|null|     null|   null|           OAH|    null|   null|null|    null|      ✓|    ✓|    null|          null|null|Western Corridor|  null|null|    null|     ✓|     null|   Site|null| null| null|  null|      null|null|       null|Sydney|   %| null|null|null| null|          null|   null|null|11-Apr-2017 Tue 0...|\n",
      "|Site ACU 2 VSD St...|  null|null|        ✓|       null|     null|  null|  null|       null|   null|   null|   ✓|  null|     null|null|        null|  null| null|ACU-2_ENB|              null|        ✓|null|   null|     null|null|    null|                null|  null|    null|false,true|      null|       null|      null|       null| null|        Site ACU 2|   null|   ✓| null|  null|        null|        GA_WEBS|H.Margaret_St_1.M...|          null|null|   null|null|  ✓|12-Oct-2017 Thu 0...|     true|  null|   null|54.142|      max|  4,107|2-Jan-2015 Fri 06...|       ok|          1 ms|null|    null|null|       ✓|  Bool|   null|Site Plant|null|     null|null|     null|   null|VSD Start Stop|    null|   null|null|    null|   null|    ✓|    null|          null|null|Western Corridor|  null|   ✓|    null|  null|     null|   Site|null| null| null|     ✓|      null|null|       null|Sydney|null| null|null|null| null|          null|   null|null|4-May-2017 Thu 02...|\n",
      "|Site ACU 2 Fan St...|  null|null|        ✓|       null|     null|  null|  null|       null|   null|   null|null|  null|     null|null|        null|  null| null|ACU-2_STS|              null|        ✓|null|   null|     null|null|    null|Site MSB 1 - MSSB...|  null|    null|false,true|      null|       null|      null|       null| null|        Site ACU 2|   null|   ✓| null|  null|        null|        GA_WEBS|H.Margaret_St_1.M...|          null|null|   null|null|  ✓|12-Oct-2017 Thu 0...|     true|  null|   null| 54.13|      max| 11,358|2-Jan-2015 Fri 06...|       ok|          1 ms|null|    null|null|       ✓|  Bool|   null|Site Plant|null|     null|null|     null|   null|    Fan Status|    null|   null|null|    null|   null|    ✓|    null|          null|null|Western Corridor|  null|   ✓|    null|     ✓|     null|   Site|null| null| null|  null|      null|null|       null|Sydney|null| null|null|null| null|          null|   null|null|24-Aug-2017 Thu 0...|\n",
      "|Site ACU 2 VSD Speed|  null|null|        ✓|       null|     null|  null|  null|       null|   null|   null|   ✓|  null|     null|null|        null|  null| null|ACU-2_SPD|              null|        ✓|null|   null|     null|null|    null|                null|  null|    null|      null|      null|       null|      null|       null| null|        Site ACU 2|   null|   ✓| null|  null|        null|        GA_WEBS|H.Margaret_St_1.M...|          null|null|   null|null|  ✓|12-Oct-2017 Thu 0...|     50 %|  null|   null|54.141|      max| 97,466|1-Jan-2015 Thu 00...|       ok|          null|null|    null|null|       ✓|Number|   null|Site Plant|null|     null|null|     null|   null|     VSD Speed|    null|   null|null|    null|   null|    ✓|    null|          null|null|Western Corridor|  null|null|    null|  null|     null|   Site|null|    ✓| null|  null|      null|null|       null|Sydney|   %| null|null|   ✓| null|          null|   null|null|19-Apr-2017 Wed 0...|\n",
      "+--------------------+------+----+---------+-----------+---------+------+------+-----------+-------+-------+----+------+---------+----+------------+------+-----+---------+------------------+---------+----+-------+---------+----+--------+--------------------+------+--------+----------+----------+-----------+----------+-----------+-----+------------------+-------+----+-----+------+------------+---------------+--------------------+--------------+----+-------+----+---+--------------------+---------+------+-------+------+---------+-------+--------------------+---------+--------------+----+--------+----+--------+------+-------+----------+----+---------+----+---------+-------+--------------+--------+-------+----+--------+-------+-----+--------+--------------+----+----------------+------+----+--------+------+---------+-------+----+-----+-----+------+----------+----+-----------+------+----+-----+----+----+-----+--------------+-------+----+--------------------+\n",
      "only showing top 5 rows\n",
      "\n"
     ]
    }
   ],
   "source": [
    "raw_points_df = sqlContext.read.format('com.databricks.spark.csv') \\\n",
    "               .options(header='true', inferSchema='true') \\\n",
    "               .load('timeseries/input/points.csv')\n",
    "raw_points_df = raw_points_df.drop(\"_c0\")\n",
    "raw_points_df.show(5)"
   ]
  },
  {
   "cell_type": "markdown",
   "metadata": {},
   "source": [
    "### 2. Reading raw histories"
   ]
  },
  {
   "cell_type": "code",
   "execution_count": 13,
   "metadata": {},
   "outputs": [
    {
     "name": "stdout",
     "output_type": "stream",
     "text": [
      "+--------------------+----+----+---------+---------+---------+----------+------------+---------+-----------+---------+---------+---------+----------+---------+----------+----------+----------+------------+------------+------------+------------+----------------+----------------+----------+----------+----------+-------+-------+-------+-------+-------+---------+----------+----------+----------+-----------+-----------+-----------+------------+------------+------------+------------+---------------+---------------+---------------+---------------+---------------+---------+---------+---------+---------+-----------+---------+---------+----------+---------+---------+----------+----------+----------+----------+----------+----------+-------+-------+-------+-------+-------+---------+---------+---------+---------+----------------+----------------+---------------+---------------+---------------+---------------+---------+---------+----------+----------+----------+-------------+-------------+---------------+---------------+--------------+--------------+----------+----------+----------+---------+---------+---------+---------+-----------+---------+---------+---------+-------------+-------------+---------------+---------------+--------------+--------------+-----------+-------------+-------------+---------------+---------------+--------------+--------------+-----------+----------------+----------------+---------+---------+---------+----------+------------+---------+-----------+---------+---------+---------+----------+---------+----------------+----------------+---------+---------+---------+---------+---------+-----------+-----------+---------+---------+---------+----------+------------+---------+-----------+---------+---------+---------+----------+---------+\n",
      "|           Timestamp| OAT| OAH|ACU-2_ENB|ACU-2_STS|ACU-2_SPD|ACU-2_SAPR|ACU-2_SAPRSP|ACU-2_SAT|ACU-2_SATSP|ACU-2_RAT|ACU-2_HCV|ACU-2_CCV|ACU-2_CCV2|ACU-2_ECD|CDWP-2_ENB|CDWP-2_STS|CDWP-2_SPD|Boiler-2_ENB|Boiler-2_STS|Boiler-2_EWT|Boiler-2_LWT|OAF-2-Tenant_ENB|OAF-2-Tenant_STS|CDWP-3_ENB|CDWP-3_STS|CDWP-3_SPD|CT2_ENB|CT2_STS|CT2_SPD|CT2_EWT|CT2_LWT|CT2_LWTSP|CHWP-3_ENB|CHWP-3_STS|CHWP-3_SPD|PTCWP-2_ENB|PTCWP-2_STS|PTCWP-2_SPD|Boiler-1_ENB|Boiler-1_STS|Boiler-1_EWT|Boiler-1_LWT|Tenant-CT-2_ENB|Tenant-CT-2_STS|Tenant-CT-2_SPD|Tenant-CT-2_EWT|Tenant-CT-2_LWT|ACU-5_ENB|ACU-5_STS|ACU-5_SPD|ACU-5_SAT|ACU-5_SATSP|ACU-5_RAT|ACU-5_HCV|ACU-5_HCV2|ACU-5_CCV|ACU-5_ECD|CHWP-2_ENB|CHWP-2_STS|CHWP-2_SPD|RAF-17_ENB|RAF-17_STS|RAF-17_SPD|CT1_ENB|CT1_STS|CT1_SPD|CT1_EWT|CT1_LWT|CT1_LWTSP|RAF-6_ENB|RAF-6_STS|RAF-6_SPD|RAF-2-Tenant_ENB|RAF-2-Tenant_STS|Tenant-CT-1_ENB|Tenant-CT-1_STS|Tenant-CT-1_SPD|Tenant-CT-1_EWT|HWP-9_ENB|HWP-9_STS|CDWP-1_ENB|CDWP-1_STS|CDWP-1_SPD|Chiller-3_ENB|Chiller-3_STS|Chiller-3_ECHWT|Chiller-3_LCHWT|Chiller-3_ECWT|Chiller-3_LCWT|CHWP-1_ENB|CHWP-1_STS|CHWP-1_SPD|ACU-4_ENB|ACU-4_STS|ACU-4_SPD|ACU-4_SAT|ACU-4_SATSP|ACU-4_RAT|ACU-4_CCV|ACU-4_ECD|Chiller-1_ENB|Chiller-1_STS|Chiller-1_ECHWT|Chiller-1_LCHWT|Chiller-1_ECWT|Chiller-1_LCWT|STCWP-2_STS|Chiller-2_ENB|Chiller-2_STS|Chiller-2_ECHWT|Chiller-2_LCHWT|Chiller-2_ECWT|Chiller-2_LCWT|STCWP-1_STS|OAF-1-Tenant_ENB|OAF-1-Tenant_STS|ACU-3_ENB|ACU-3_STS|ACU-3_SPD|ACU-3_SAPR|ACU-3_SAPRSP|ACU-3_SAT|ACU-3_SATSP|ACU-3_RAT|ACU-3_HCV|ACU-3_CCV|ACU-3_CCV2|ACU-3_ECD|RAF-1-Tenant_ENB|RAF-1-Tenant_STS|HWP-8_ENB|HWP-8_STS|RAF-8_ENB|RAF-8_STS|RAF-8_SPD|PTCWP-1_ENB|PTCWP-1_STS|ACU-1_ENB|ACU-1_STS|ACU-1_SPD|ACU-1_SAPR|ACU-1_SAPRSP|ACU-1_SAT|ACU-1_SATSP|ACU-1_RAT|ACU-1_HCV|ACU-1_CCV|ACU-1_CCV2|ACU-1_ECD|\n",
      "+--------------------+----+----+---------+---------+---------+----------+------------+---------+-----------+---------+---------+---------+----------+---------+----------+----------+----------+------------+------------+------------+------------+----------------+----------------+----------+----------+----------+-------+-------+-------+-------+-------+---------+----------+----------+----------+-----------+-----------+-----------+------------+------------+------------+------------+---------------+---------------+---------------+---------------+---------------+---------+---------+---------+---------+-----------+---------+---------+----------+---------+---------+----------+----------+----------+----------+----------+----------+-------+-------+-------+-------+-------+---------+---------+---------+---------+----------------+----------------+---------------+---------------+---------------+---------------+---------+---------+----------+----------+----------+-------------+-------------+---------------+---------------+--------------+--------------+----------+----------+----------+---------+---------+---------+---------+-----------+---------+---------+---------+-------------+-------------+---------------+---------------+--------------+--------------+-----------+-------------+-------------+---------------+---------------+--------------+--------------+-----------+----------------+----------------+---------+---------+---------+----------+------------+---------+-----------+---------+---------+---------+----------+---------+----------------+----------------+---------+---------+---------+---------+---------+-----------+-----------+---------+---------+---------+----------+------------+---------+-----------+---------+---------+---------+----------+---------+\n",
      "|2016-11-05T01:43:...|null|null|     null|     null|     null|      null|        null|     null|       null|     null|     null|     null|      null|     null|      null|      null|      null|        null|        null|        null|        null|            null|            null|      null|      null|      null|   null|   null|   null|   null|   null|     null|      null|      null|      null|       null|       null|       null|        null|        null|        null|        null|           null|           null|           null|           null|           null|     null|     null|     null|     null|       null|     null|     null|      null|     null|     null|      null|      null|      null|      null|      null|      null|   null|   null|   null|   null|   null|     null|     null|     null|     null|            null|            null|           null|           null|           null|           null|     null|     null|      null|      null|      null|         null|         null|           null|           null|          null|          null|      null|      null|      null|     null|     null|     null|     null|       null|     null|     null|     null|         null|         null|           null|           null|          null|          null|       null|         null|         null|           null|           null|          null|          null|       null|           false|            null|     null|     null|     null|      null|        null|     null|       null|     null|     null|     null|      null|     null|           false|            null|     null|     null|     null|     null|     null|       null|       null|     null|     null|     null|      null|        null|     null|       null|     null|     null|     null|      null|     null|\n",
      "|2016-11-05T01:44:...|null|null|     null|     null|     null|      null|        null|     null|       null|     null|     null|     null|      null|     null|      null|      null|      null|        null|        null|        null|        null|            null|            null|      null|      null|      null|   null|   null|   null|   null|   null|     null|      null|      null|      null|       null|       null|       null|        null|        null|        null|        null|           null|           null|           null|           null|           null|     null|     null|     null|     null|       null|     null|     null|      null|     null|     null|      null|      null|      null|      null|      null|      null|   null|   null|   null|   null|   null|     null|     null|     null|     null|            null|            null|           null|           null|           null|           null|     null|     null|      null|      null|      null|         null|         null|           null|           null|          null|          null|      null|      null|      null|     null|     null|     null|     null|       null|     null|     null|     null|         null|         null|           null|           null|          null|          null|       null|         null|         null|           null|           null|          null|          null|       null|            null|           false|     null|     null|     null|      null|        null|     null|       null|     null|     null|     null|      null|     null|            null|           false|     null|     null|     null|     null|     null|       null|       null|     null|     null|     null|      null|        null|     null|       null|     null|     null|     null|      null|     null|\n",
      "|2017-02-03T07:00:...|null|null|     null|     null|     null|      null|        null|     null|       null|     null|     null|     null|      null|     null|      null|      null|      null|        null|        null|        null|        null|            true|            null|      null|      null|      null|   null|   null|   null|   null|   null|     null|      null|      null|      null|       null|       null|       null|        null|        null|        null|        null|           null|           null|           null|           null|           null|     null|     null|     null|     null|       null|     null|     null|      null|     null|     null|      null|      null|      null|      null|      null|      null|   null|   null|   null|   null|   null|     null|     null|     null|     null|            true|            null|           null|           null|           null|           null|     null|     null|      null|      null|      null|         null|         null|           null|           null|          null|          null|      null|      null|      null|     null|     null|     null|     null|       null|     null|     null|     null|         null|         null|           null|           null|          null|          null|       null|         null|         null|           null|           null|          null|          null|       null|            null|            null|     null|     null|     null|      null|        null|     null|       null|     null|     null|     null|      null|     null|            null|            null|     null|     null|     null|     null|     null|       null|       null|     null|     null|     null|      null|        null|     null|       null|     null|     null|     null|      null|     null|\n",
      "|2017-02-03T07:00:...|null|null|     null|     null|     null|      null|        null|     null|       null|     null|     null|     null|      null|     null|      null|      null|      null|        null|        null|        null|        null|            null|            true|      null|      null|      null|   null|   null|   null|   null|   null|     null|      null|      null|      null|       null|       null|       null|        null|        null|        null|        null|           null|           null|           null|           null|           null|     null|     null|     null|     null|       null|     null|     null|      null|     null|     null|      null|      null|      null|      null|      null|      null|   null|   null|   null|   null|   null|     null|     null|     null|     null|            null|            null|           null|           null|           null|           null|     null|     null|      null|      null|      null|         null|         null|           null|           null|          null|          null|      null|      null|      null|     null|     null|     null|     null|       null|     null|     null|     null|         null|         null|           null|           null|          null|          null|       null|         null|         null|           null|           null|          null|          null|       null|            null|            null|     null|     null|     null|      null|        null|     null|       null|     null|     null|     null|      null|     null|            null|            null|     null|     null|     null|     null|     null|       null|       null|     null|     null|     null|      null|        null|     null|       null|     null|     null|     null|      null|     null|\n",
      "|2017-02-03T07:00:...|null|null|     null|     null|     null|      null|        null|     null|       null|     null|     null|     null|      null|     null|      null|      null|      null|        null|        null|        null|        null|            null|            null|      null|      null|      null|   null|   null|   null|   null|   null|     null|      null|      null|      null|       null|       null|       null|        null|        null|        null|        null|           null|           null|           null|           null|           null|     null|     null|     null|     null|       null|     null|     null|      null|     null|     null|      null|      null|      null|      null|      null|      null|   null|   null|   null|   null|   null|     null|     null|     null|     null|            null|            true|           null|           null|           null|           null|     null|     null|      null|      null|      null|         null|         null|           null|           null|          null|          null|      null|      null|      null|     null|     null|     null|     null|       null|     null|     null|     null|         null|         null|           null|           null|          null|          null|       null|         null|         null|           null|           null|          null|          null|       null|            null|            null|     null|     null|     null|      null|        null|     null|       null|     null|     null|     null|      null|     null|            null|            null|     null|     null|     null|     null|     null|       null|       null|     null|     null|     null|      null|        null|     null|       null|     null|     null|     null|      null|     null|\n",
      "+--------------------+----+----+---------+---------+---------+----------+------------+---------+-----------+---------+---------+---------+----------+---------+----------+----------+----------+------------+------------+------------+------------+----------------+----------------+----------+----------+----------+-------+-------+-------+-------+-------+---------+----------+----------+----------+-----------+-----------+-----------+------------+------------+------------+------------+---------------+---------------+---------------+---------------+---------------+---------+---------+---------+---------+-----------+---------+---------+----------+---------+---------+----------+----------+----------+----------+----------+----------+-------+-------+-------+-------+-------+---------+---------+---------+---------+----------------+----------------+---------------+---------------+---------------+---------------+---------+---------+----------+----------+----------+-------------+-------------+---------------+---------------+--------------+--------------+----------+----------+----------+---------+---------+---------+---------+-----------+---------+---------+---------+-------------+-------------+---------------+---------------+--------------+--------------+-----------+-------------+-------------+---------------+---------------+--------------+--------------+-----------+----------------+----------------+---------+---------+---------+----------+------------+---------+-----------+---------+---------+---------+----------+---------+----------------+----------------+---------+---------+---------+---------+---------+-----------+-----------+---------+---------+---------+----------+------------+---------+-----------+---------+---------+---------+----------+---------+\n",
      "only showing top 5 rows\n",
      "\n"
     ]
    }
   ],
   "source": [
    "# Reading history file\n",
    "history_df = sqlContext.read.format('com.databricks.spark.csv') \\\n",
    "               .options(header='true') \\\n",
    "               .load('timeseries/input/histories.csv')\n",
    "               \n",
    "history_df.cache()\n",
    "               \n",
    "history_df.show(5)"
   ]
  },
  {
   "cell_type": "code",
   "execution_count": 14,
   "metadata": {},
   "outputs": [
    {
     "name": "stdout",
     "output_type": "stream",
     "text": [
      "+-------------------+----------------+---------+\n",
      "|           datetime|       pointName|raw_value|\n",
      "+-------------------+----------------+---------+\n",
      "|1478310223000000000|OAF-1-Tenant_ENB|    false|\n",
      "|1478310223000000000|RAF-1-Tenant_ENB|    false|\n",
      "|1478310246000000000|OAF-1-Tenant_STS|    false|\n",
      "|1478310246000000000|RAF-1-Tenant_STS|    false|\n",
      "|1486105205000000000|OAF-2-Tenant_ENB|     true|\n",
      "|1486105205000000000|RAF-2-Tenant_ENB|     true|\n",
      "|1486105210000000000|OAF-2-Tenant_STS|     true|\n",
      "|1486105211000000000|RAF-2-Tenant_STS|     true|\n",
      "|1502117823000000000|     STCWP-1_STS|     true|\n",
      "|1502117823000000000|     PTCWP-1_ENB|     true|\n",
      "|1505982247000000000|    Boiler-1_ENB|    false|\n",
      "|1505982247000000000|    Boiler-2_ENB|    false|\n",
      "|1505982546000000000|       HWP-9_ENB|    false|\n",
      "|1505982547000000000|       HWP-8_ENB|    false|\n",
      "|1506586598000000000| Tenant-CT-2_ENB|    false|\n",
      "|1506586628000000000| Tenant-CT-2_STS|    false|\n",
      "|1506586761000000000|     PTCWP-1_STS|     true|\n",
      "|1506591532000000000|     STCWP-2_STS|    false|\n",
      "|1506591532000000000|     PTCWP-2_ENB|    false|\n",
      "|1506591537000000000|     PTCWP-2_STS|    false|\n",
      "+-------------------+----------------+---------+\n",
      "only showing top 20 rows\n",
      "\n"
     ]
    }
   ],
   "source": [
    "import datetime, time\n",
    "from pyspark.sql.types import *\n",
    "columns = history_df.columns\n",
    "if \"Timestamp\" in columns:\n",
    "    columns.remove('Timestamp')\n",
    "\n",
    "def clean_as_schema(row, columns):\n",
    "    date_string = row['Timestamp']\n",
    "    datetime = convert_to_timestamp(date_string)\n",
    "    rows = []\n",
    "    for column in columns:\n",
    "        value = row[column]\n",
    "        if value is not None and value != 'null' and value != '':\n",
    "            new_row = [datetime, column, value]\n",
    "            rows.append(Row(*new_row))\n",
    "    return rows\n",
    "\n",
    "\n",
    "def convert_to_timestamp(date_string):\n",
    "    date_string = date_string[:19]\n",
    "    return int((datetime.datetime.strptime(date_string, \"%Y-%m-%dT%H:%M:%S\") - datetime.datetime.utcfromtimestamp(\n",
    "        0)).total_seconds() * 1000*1000*1000)\n",
    "        \n",
    "cleaned_his_rdd = history_df.rdd.flatMap(lambda row: clean_as_schema(row, columns))\n",
    "\n",
    "schema = StructType([\n",
    "    StructField(\"datetime\", LongType(), False),\n",
    "    StructField(\"pointName\", StringType(), False),\n",
    "    StructField(\"raw_value\", StringType(), False)\n",
    "    ])\n",
    "    \n",
    "cleaned_his_df = sqlContext.createDataFrame(cleaned_his_rdd, schema)\n",
    "cleaned_his_df.registerTempTable(\"cleanedHisDf\")\n",
    "cleaned_his_df.show()"
   ]
  },
  {
   "cell_type": "code",
   "execution_count": 15,
   "metadata": {},
   "outputs": [
    {
     "name": "stdout",
     "output_type": "stream",
     "text": [
      "+-------------------+----------+--------------------+--------------------+------+---+---------+-----------+---------+------+------+-----------+-------+-------+----+------+---------+----+------------+------+-----+--------+---------+----+-------+---------+----+--------+-------------+------+--------+----+----------+-----------+----------+-----------+-----+----------+-------+----+-----+------+------------+---------------+--------------------+--------------+----+-------+----+---+--------------------+----------+------+-------+-----+---------+-------+--------------------+---------+--------------+----+--------+----+--------+------+-------+----------+----+---------+----+---------+-------+--------------------+--------+-------+----+--------+-------+-----+--------+--------------+----+----------------+------+----+--------+------+---------+-------+----+-----+-----+------+----------+----+-----------+------+----+-----+----+----+-----+--------------+-------+----+--------------------+\n",
      "|           datetime| pointName|           raw_value|                  id|ahuRef|air|analytics|armsAssetId|averazing|boiler|bypass|calendarRef|chilled|chiller| cmd|common|condenser|cool|coolingTower|damper|delta|disMacro|discharge|  dk|economy|effective|elec|elecHeat|elecMeterLoad|enable|entering|enum|envizi_CCV|envizi_CCV2|envizi_HCV|envizi_HCV2|equip|  equipRef|exhaust| fan|fault|filter|gasMeterLoad|haystackConnRef|         haystackHis|haystackHisOld|heat|heating|help|his|              hisEnd| hisEndVal|hisErr|hisFunc|hisId|hisRollup|hisSize|            hisStart|hisStatus|hisTsPrecision| hot|humidity|hvac|imported|  kind|leaving|  levelRef| low|maxFlowSp| min|minFlowSp|minimum|             navName|nextTime|nextVal| occ|occSched|outside|point|pressure|projectAssetId|pump|       regionRef|return| run|schedule|sensor|sitePoint|siteRef|  sp|speed|stage|supply|targetType|temp|toBeDeleted|    tz|unit|valve| vav| vfd|water|waterMeterLoad|wetBulb|zone|                 mod|\n",
      "+-------------------+----------+--------------------+--------------------+------+---+---------+-----------+---------+------+------+-----------+-------+-------+----+------+---------+----+------------+------+-----+--------+---------+----+-------+---------+----+--------+-------------+------+--------+----+----------+-----------+----------+-----------+-----+----------+-------+----+-----+------+------------+---------------+--------------------+--------------+----+-------+----+---+--------------------+----------+------+-------+-----+---------+-------+--------------------+---------+--------------+----+--------+----+--------+------+-------+----------+----+---------+----+---------+-------+--------------------+--------+-------+----+--------+-------+-----+--------+--------------+----+----------------+------+----+--------+------+---------+-------+----+-----+-----+------+----------+----+-----------+------+----+-----+----+----+-----+--------------+-------+----+--------------------+\n",
      "|1507679101000000000|ACU-2_SAPR|1.2893999814987183Pa|Site ACU 2 Supply...|  null|  1|        1|       null|     null|  null|  null|       null|   null|   null|null|  null|     null|null|        null|  null| null|    null|        1|null|   null|     null|null|    null|         null|  null|    null|null|      null|       null|      null|       null| null|Site ACU 2|   null|null| null|  null|        null|        GA_WEBS|H.Margaret_St_1.M...|          null|null|   null|null|  1|12-Oct-2017 Thu 0...|292.417 Pa|  null|   null|54.14|      max| 97,466|1-Jan-2015 Thu 00...|       ok|          null|null|    null|null|       1|Number|   null|Site Plant|null|     null|null|     null|   null|Supply Static Pre...|    null|   null|null|    null|   null|    1|       1|          null|null|Western Corridor|  null|null|    null|     1|     null|   Site|null| null| null|     1|      null|null|       null|Sydney|  Pa| null|null|null| null|          null|   null|null|12-Apr-2017 Wed 0...|\n",
      "|1507680001000000000|ACU-2_SAPR|1.3430999517440796Pa|Site ACU 2 Supply...|  null|  1|        1|       null|     null|  null|  null|       null|   null|   null|null|  null|     null|null|        null|  null| null|    null|        1|null|   null|     null|null|    null|         null|  null|    null|null|      null|       null|      null|       null| null|Site ACU 2|   null|null| null|  null|        null|        GA_WEBS|H.Margaret_St_1.M...|          null|null|   null|null|  1|12-Oct-2017 Thu 0...|292.417 Pa|  null|   null|54.14|      max| 97,466|1-Jan-2015 Thu 00...|       ok|          null|null|    null|null|       1|Number|   null|Site Plant|null|     null|null|     null|   null|Supply Static Pre...|    null|   null|null|    null|   null|    1|       1|          null|null|Western Corridor|  null|null|    null|     1|     null|   Site|null| null| null|     1|      null|null|       null|Sydney|  Pa| null|null|null| null|          null|   null|null|12-Apr-2017 Wed 0...|\n",
      "|1507680901000000000|ACU-2_SAPR| 2.140899896621704Pa|Site ACU 2 Supply...|  null|  1|        1|       null|     null|  null|  null|       null|   null|   null|null|  null|     null|null|        null|  null| null|    null|        1|null|   null|     null|null|    null|         null|  null|    null|null|      null|       null|      null|       null| null|Site ACU 2|   null|null| null|  null|        null|        GA_WEBS|H.Margaret_St_1.M...|          null|null|   null|null|  1|12-Oct-2017 Thu 0...|292.417 Pa|  null|   null|54.14|      max| 97,466|1-Jan-2015 Thu 00...|       ok|          null|null|    null|null|       1|Number|   null|Site Plant|null|     null|null|     null|   null|Supply Static Pre...|    null|   null|null|    null|   null|    1|       1|          null|null|Western Corridor|  null|null|    null|     1|     null|   Site|null| null| null|     1|      null|null|       null|Sydney|  Pa| null|null|null| null|          null|   null|null|12-Apr-2017 Wed 0...|\n",
      "|1507681801000000000|ACU-2_SAPR|1.8432999849319458Pa|Site ACU 2 Supply...|  null|  1|        1|       null|     null|  null|  null|       null|   null|   null|null|  null|     null|null|        null|  null| null|    null|        1|null|   null|     null|null|    null|         null|  null|    null|null|      null|       null|      null|       null| null|Site ACU 2|   null|null| null|  null|        null|        GA_WEBS|H.Margaret_St_1.M...|          null|null|   null|null|  1|12-Oct-2017 Thu 0...|292.417 Pa|  null|   null|54.14|      max| 97,466|1-Jan-2015 Thu 00...|       ok|          null|null|    null|null|       1|Number|   null|Site Plant|null|     null|null|     null|   null|Supply Static Pre...|    null|   null|null|    null|   null|    1|       1|          null|null|Western Corridor|  null|null|    null|     1|     null|   Site|null| null| null|     1|      null|null|       null|Sydney|  Pa| null|null|null| null|          null|   null|null|12-Apr-2017 Wed 0...|\n",
      "|1507682701000000000|ACU-2_SAPR|2.0785999298095703Pa|Site ACU 2 Supply...|  null|  1|        1|       null|     null|  null|  null|       null|   null|   null|null|  null|     null|null|        null|  null| null|    null|        1|null|   null|     null|null|    null|         null|  null|    null|null|      null|       null|      null|       null| null|Site ACU 2|   null|null| null|  null|        null|        GA_WEBS|H.Margaret_St_1.M...|          null|null|   null|null|  1|12-Oct-2017 Thu 0...|292.417 Pa|  null|   null|54.14|      max| 97,466|1-Jan-2015 Thu 00...|       ok|          null|null|    null|null|       1|Number|   null|Site Plant|null|     null|null|     null|   null|Supply Static Pre...|    null|   null|null|    null|   null|    1|       1|          null|null|Western Corridor|  null|null|    null|     1|     null|   Site|null| null| null|     1|      null|null|       null|Sydney|  Pa| null|null|null| null|          null|   null|null|12-Apr-2017 Wed 0...|\n",
      "|1507683601000000000|ACU-2_SAPR|1.1464999914169312Pa|Site ACU 2 Supply...|  null|  1|        1|       null|     null|  null|  null|       null|   null|   null|null|  null|     null|null|        null|  null| null|    null|        1|null|   null|     null|null|    null|         null|  null|    null|null|      null|       null|      null|       null| null|Site ACU 2|   null|null| null|  null|        null|        GA_WEBS|H.Margaret_St_1.M...|          null|null|   null|null|  1|12-Oct-2017 Thu 0...|292.417 Pa|  null|   null|54.14|      max| 97,466|1-Jan-2015 Thu 00...|       ok|          null|null|    null|null|       1|Number|   null|Site Plant|null|     null|null|     null|   null|Supply Static Pre...|    null|   null|null|    null|   null|    1|       1|          null|null|Western Corridor|  null|null|    null|     1|     null|   Site|null| null| null|     1|      null|null|       null|Sydney|  Pa| null|null|null| null|          null|   null|null|12-Apr-2017 Wed 0...|\n",
      "|1507684501000000000|ACU-2_SAPR|1.8589999675750732Pa|Site ACU 2 Supply...|  null|  1|        1|       null|     null|  null|  null|       null|   null|   null|null|  null|     null|null|        null|  null| null|    null|        1|null|   null|     null|null|    null|         null|  null|    null|null|      null|       null|      null|       null| null|Site ACU 2|   null|null| null|  null|        null|        GA_WEBS|H.Margaret_St_1.M...|          null|null|   null|null|  1|12-Oct-2017 Thu 0...|292.417 Pa|  null|   null|54.14|      max| 97,466|1-Jan-2015 Thu 00...|       ok|          null|null|    null|null|       1|Number|   null|Site Plant|null|     null|null|     null|   null|Supply Static Pre...|    null|   null|null|    null|   null|    1|       1|          null|null|Western Corridor|  null|null|    null|     1|     null|   Site|null| null| null|     1|      null|null|       null|Sydney|  Pa| null|null|null| null|          null|   null|null|12-Apr-2017 Wed 0...|\n",
      "|1507685401000000000|ACU-2_SAPR|2.1635000705718994Pa|Site ACU 2 Supply...|  null|  1|        1|       null|     null|  null|  null|       null|   null|   null|null|  null|     null|null|        null|  null| null|    null|        1|null|   null|     null|null|    null|         null|  null|    null|null|      null|       null|      null|       null| null|Site ACU 2|   null|null| null|  null|        null|        GA_WEBS|H.Margaret_St_1.M...|          null|null|   null|null|  1|12-Oct-2017 Thu 0...|292.417 Pa|  null|   null|54.14|      max| 97,466|1-Jan-2015 Thu 00...|       ok|          null|null|    null|null|       1|Number|   null|Site Plant|null|     null|null|     null|   null|Supply Static Pre...|    null|   null|null|    null|   null|    1|       1|          null|null|Western Corridor|  null|null|    null|     1|     null|   Site|null| null| null|     1|      null|null|       null|Sydney|  Pa| null|null|null| null|          null|   null|null|12-Apr-2017 Wed 0...|\n",
      "|1507686301000000000|ACU-2_SAPR|1.6698999404907227Pa|Site ACU 2 Supply...|  null|  1|        1|       null|     null|  null|  null|       null|   null|   null|null|  null|     null|null|        null|  null| null|    null|        1|null|   null|     null|null|    null|         null|  null|    null|null|      null|       null|      null|       null| null|Site ACU 2|   null|null| null|  null|        null|        GA_WEBS|H.Margaret_St_1.M...|          null|null|   null|null|  1|12-Oct-2017 Thu 0...|292.417 Pa|  null|   null|54.14|      max| 97,466|1-Jan-2015 Thu 00...|       ok|          null|null|    null|null|       1|Number|   null|Site Plant|null|     null|null|     null|   null|Supply Static Pre...|    null|   null|null|    null|   null|    1|       1|          null|null|Western Corridor|  null|null|    null|     1|     null|   Site|null| null| null|     1|      null|null|       null|Sydney|  Pa| null|null|null| null|          null|   null|null|12-Apr-2017 Wed 0...|\n",
      "|1507687201000000000|ACU-2_SAPR| 1.427299976348877Pa|Site ACU 2 Supply...|  null|  1|        1|       null|     null|  null|  null|       null|   null|   null|null|  null|     null|null|        null|  null| null|    null|        1|null|   null|     null|null|    null|         null|  null|    null|null|      null|       null|      null|       null| null|Site ACU 2|   null|null| null|  null|        null|        GA_WEBS|H.Margaret_St_1.M...|          null|null|   null|null|  1|12-Oct-2017 Thu 0...|292.417 Pa|  null|   null|54.14|      max| 97,466|1-Jan-2015 Thu 00...|       ok|          null|null|    null|null|       1|Number|   null|Site Plant|null|     null|null|     null|   null|Supply Static Pre...|    null|   null|null|    null|   null|    1|       1|          null|null|Western Corridor|  null|null|    null|     1|     null|   Site|null| null| null|     1|      null|null|       null|Sydney|  Pa| null|null|null| null|          null|   null|null|12-Apr-2017 Wed 0...|\n",
      "|1507688101000000000|ACU-2_SAPR|1.6203999519348145Pa|Site ACU 2 Supply...|  null|  1|        1|       null|     null|  null|  null|       null|   null|   null|null|  null|     null|null|        null|  null| null|    null|        1|null|   null|     null|null|    null|         null|  null|    null|null|      null|       null|      null|       null| null|Site ACU 2|   null|null| null|  null|        null|        GA_WEBS|H.Margaret_St_1.M...|          null|null|   null|null|  1|12-Oct-2017 Thu 0...|292.417 Pa|  null|   null|54.14|      max| 97,466|1-Jan-2015 Thu 00...|       ok|          null|null|    null|null|       1|Number|   null|Site Plant|null|     null|null|     null|   null|Supply Static Pre...|    null|   null|null|    null|   null|    1|       1|          null|null|Western Corridor|  null|null|    null|     1|     null|   Site|null| null| null|     1|      null|null|       null|Sydney|  Pa| null|null|null| null|          null|   null|null|12-Apr-2017 Wed 0...|\n",
      "|1507689001000000000|ACU-2_SAPR|1.2680000066757202Pa|Site ACU 2 Supply...|  null|  1|        1|       null|     null|  null|  null|       null|   null|   null|null|  null|     null|null|        null|  null| null|    null|        1|null|   null|     null|null|    null|         null|  null|    null|null|      null|       null|      null|       null| null|Site ACU 2|   null|null| null|  null|        null|        GA_WEBS|H.Margaret_St_1.M...|          null|null|   null|null|  1|12-Oct-2017 Thu 0...|292.417 Pa|  null|   null|54.14|      max| 97,466|1-Jan-2015 Thu 00...|       ok|          null|null|    null|null|       1|Number|   null|Site Plant|null|     null|null|     null|   null|Supply Static Pre...|    null|   null|null|    null|   null|    1|       1|          null|null|Western Corridor|  null|null|    null|     1|     null|   Site|null| null| null|     1|      null|null|       null|Sydney|  Pa| null|null|null| null|          null|   null|null|12-Apr-2017 Wed 0...|\n",
      "|1507689901000000000|ACU-2_SAPR|2.1173999309539795Pa|Site ACU 2 Supply...|  null|  1|        1|       null|     null|  null|  null|       null|   null|   null|null|  null|     null|null|        null|  null| null|    null|        1|null|   null|     null|null|    null|         null|  null|    null|null|      null|       null|      null|       null| null|Site ACU 2|   null|null| null|  null|        null|        GA_WEBS|H.Margaret_St_1.M...|          null|null|   null|null|  1|12-Oct-2017 Thu 0...|292.417 Pa|  null|   null|54.14|      max| 97,466|1-Jan-2015 Thu 00...|       ok|          null|null|    null|null|       1|Number|   null|Site Plant|null|     null|null|     null|   null|Supply Static Pre...|    null|   null|null|    null|   null|    1|       1|          null|null|Western Corridor|  null|null|    null|     1|     null|   Site|null| null| null|     1|      null|null|       null|Sydney|  Pa| null|null|null| null|          null|   null|null|12-Apr-2017 Wed 0...|\n",
      "|1507690801000000000|ACU-2_SAPR|1.0232000350952148Pa|Site ACU 2 Supply...|  null|  1|        1|       null|     null|  null|  null|       null|   null|   null|null|  null|     null|null|        null|  null| null|    null|        1|null|   null|     null|null|    null|         null|  null|    null|null|      null|       null|      null|       null| null|Site ACU 2|   null|null| null|  null|        null|        GA_WEBS|H.Margaret_St_1.M...|          null|null|   null|null|  1|12-Oct-2017 Thu 0...|292.417 Pa|  null|   null|54.14|      max| 97,466|1-Jan-2015 Thu 00...|       ok|          null|null|    null|null|       1|Number|   null|Site Plant|null|     null|null|     null|   null|Supply Static Pre...|    null|   null|null|    null|   null|    1|       1|          null|null|Western Corridor|  null|null|    null|     1|     null|   Site|null| null| null|     1|      null|null|       null|Sydney|  Pa| null|null|null| null|          null|   null|null|12-Apr-2017 Wed 0...|\n",
      "|1507691701000000000|ACU-2_SAPR|1.6868000030517578Pa|Site ACU 2 Supply...|  null|  1|        1|       null|     null|  null|  null|       null|   null|   null|null|  null|     null|null|        null|  null| null|    null|        1|null|   null|     null|null|    null|         null|  null|    null|null|      null|       null|      null|       null| null|Site ACU 2|   null|null| null|  null|        null|        GA_WEBS|H.Margaret_St_1.M...|          null|null|   null|null|  1|12-Oct-2017 Thu 0...|292.417 Pa|  null|   null|54.14|      max| 97,466|1-Jan-2015 Thu 00...|       ok|          null|null|    null|null|       1|Number|   null|Site Plant|null|     null|null|     null|   null|Supply Static Pre...|    null|   null|null|    null|   null|    1|       1|          null|null|Western Corridor|  null|null|    null|     1|     null|   Site|null| null| null|     1|      null|null|       null|Sydney|  Pa| null|null|null| null|          null|   null|null|12-Apr-2017 Wed 0...|\n",
      "|1507692601000000000|ACU-2_SAPR|1.8672000169754028Pa|Site ACU 2 Supply...|  null|  1|        1|       null|     null|  null|  null|       null|   null|   null|null|  null|     null|null|        null|  null| null|    null|        1|null|   null|     null|null|    null|         null|  null|    null|null|      null|       null|      null|       null| null|Site ACU 2|   null|null| null|  null|        null|        GA_WEBS|H.Margaret_St_1.M...|          null|null|   null|null|  1|12-Oct-2017 Thu 0...|292.417 Pa|  null|   null|54.14|      max| 97,466|1-Jan-2015 Thu 00...|       ok|          null|null|    null|null|       1|Number|   null|Site Plant|null|     null|null|     null|   null|Supply Static Pre...|    null|   null|null|    null|   null|    1|       1|          null|null|Western Corridor|  null|null|    null|     1|     null|   Site|null| null| null|     1|      null|null|       null|Sydney|  Pa| null|null|null| null|          null|   null|null|12-Apr-2017 Wed 0...|\n",
      "|1507693501000000000|ACU-2_SAPR|1.2599999904632568Pa|Site ACU 2 Supply...|  null|  1|        1|       null|     null|  null|  null|       null|   null|   null|null|  null|     null|null|        null|  null| null|    null|        1|null|   null|     null|null|    null|         null|  null|    null|null|      null|       null|      null|       null| null|Site ACU 2|   null|null| null|  null|        null|        GA_WEBS|H.Margaret_St_1.M...|          null|null|   null|null|  1|12-Oct-2017 Thu 0...|292.417 Pa|  null|   null|54.14|      max| 97,466|1-Jan-2015 Thu 00...|       ok|          null|null|    null|null|       1|Number|   null|Site Plant|null|     null|null|     null|   null|Supply Static Pre...|    null|   null|null|    null|   null|    1|       1|          null|null|Western Corridor|  null|null|    null|     1|     null|   Site|null| null| null|     1|      null|null|       null|Sydney|  Pa| null|null|null| null|          null|   null|null|12-Apr-2017 Wed 0...|\n",
      "|1507694401000000000|ACU-2_SAPR|1.3300000429153442Pa|Site ACU 2 Supply...|  null|  1|        1|       null|     null|  null|  null|       null|   null|   null|null|  null|     null|null|        null|  null| null|    null|        1|null|   null|     null|null|    null|         null|  null|    null|null|      null|       null|      null|       null| null|Site ACU 2|   null|null| null|  null|        null|        GA_WEBS|H.Margaret_St_1.M...|          null|null|   null|null|  1|12-Oct-2017 Thu 0...|292.417 Pa|  null|   null|54.14|      max| 97,466|1-Jan-2015 Thu 00...|       ok|          null|null|    null|null|       1|Number|   null|Site Plant|null|     null|null|     null|   null|Supply Static Pre...|    null|   null|null|    null|   null|    1|       1|          null|null|Western Corridor|  null|null|    null|     1|     null|   Site|null| null| null|     1|      null|null|       null|Sydney|  Pa| null|null|null| null|          null|   null|null|12-Apr-2017 Wed 0...|\n",
      "|1507695301000000000|ACU-2_SAPR| 1.500499963760376Pa|Site ACU 2 Supply...|  null|  1|        1|       null|     null|  null|  null|       null|   null|   null|null|  null|     null|null|        null|  null| null|    null|        1|null|   null|     null|null|    null|         null|  null|    null|null|      null|       null|      null|       null| null|Site ACU 2|   null|null| null|  null|        null|        GA_WEBS|H.Margaret_St_1.M...|          null|null|   null|null|  1|12-Oct-2017 Thu 0...|292.417 Pa|  null|   null|54.14|      max| 97,466|1-Jan-2015 Thu 00...|       ok|          null|null|    null|null|       1|Number|   null|Site Plant|null|     null|null|     null|   null|Supply Static Pre...|    null|   null|null|    null|   null|    1|       1|          null|null|Western Corridor|  null|null|    null|     1|     null|   Site|null| null| null|     1|      null|null|       null|Sydney|  Pa| null|null|null| null|          null|   null|null|12-Apr-2017 Wed 0...|\n",
      "|1507696201000000000|ACU-2_SAPR|1.8623000383377075Pa|Site ACU 2 Supply...|  null|  1|        1|       null|     null|  null|  null|       null|   null|   null|null|  null|     null|null|        null|  null| null|    null|        1|null|   null|     null|null|    null|         null|  null|    null|null|      null|       null|      null|       null| null|Site ACU 2|   null|null| null|  null|        null|        GA_WEBS|H.Margaret_St_1.M...|          null|null|   null|null|  1|12-Oct-2017 Thu 0...|292.417 Pa|  null|   null|54.14|      max| 97,466|1-Jan-2015 Thu 00...|       ok|          null|null|    null|null|       1|Number|   null|Site Plant|null|     null|null|     null|   null|Supply Static Pre...|    null|   null|null|    null|   null|    1|       1|          null|null|Western Corridor|  null|null|    null|     1|     null|   Site|null| null| null|     1|      null|null|       null|Sydney|  Pa| null|null|null| null|          null|   null|null|12-Apr-2017 Wed 0...|\n",
      "+-------------------+----------+--------------------+--------------------+------+---+---------+-----------+---------+------+------+-----------+-------+-------+----+------+---------+----+------------+------+-----+--------+---------+----+-------+---------+----+--------+-------------+------+--------+----+----------+-----------+----------+-----------+-----+----------+-------+----+-----+------+------------+---------------+--------------------+--------------+----+-------+----+---+--------------------+----------+------+-------+-----+---------+-------+--------------------+---------+--------------+----+--------+----+--------+------+-------+----------+----+---------+----+---------+-------+--------------------+--------+-------+----+--------+-------+-----+--------+--------------+----+----------------+------+----+--------+------+---------+-------+----+-----+-----+------+----------+----+-----------+------+----+-----+----+----+-----+--------------+-------+----+--------------------+\n",
      "only showing top 20 rows\n",
      "\n"
     ]
    }
   ],
   "source": [
    "points_df.registerTempTable(\"points\")\n",
    "# We have registered both as temp table. Let's use sql to do the join\n",
    "joined_his_df = sqlContext.sql(\"SELECT * from cleanedHisDf as h left join points as p on h.pointName = p.dis\")\n",
    "# This could be achieved by using api as well\n",
    "joined_his_df = joined_his_df.drop(\"dis\")\n",
    "joined_his_df.show()"
   ]
  },
  {
   "cell_type": "code",
   "execution_count": 16,
   "metadata": {},
   "outputs": [
    {
     "name": "stdout",
     "output_type": "stream",
     "text": [
      "+-------------------+----------+--------------------+--------------------+------+---+---------+-----------+---------+------+------+-----------+-------+-------+----+------+---------+----+------------+------+-----+--------+---------+----+-------+---------+----+--------+-------------+------+--------+----+----------+-----------+----------+-----------+-----+----------+-------+----+-----+------+------------+---------------+--------------------+--------------+----+-------+----+---+--------------------+----------+------+-------+-----+---------+-------+--------------------+---------+--------------+----+--------+----+--------+------+-------+----------+----+---------+----+---------+-------+--------------------+--------+-------+----+--------+-------+-----+--------+--------------+----+----------------+------+----+--------+------+---------+-------+----+-----+-----+------+----------+----+-----------+------+----+-----+----+----+-----+--------------+-------+----+--------------------+------------------+\n",
      "|           datetime| pointName|           raw_value|                  id|ahuRef|air|analytics|armsAssetId|averazing|boiler|bypass|calendarRef|chilled|chiller| cmd|common|condenser|cool|coolingTower|damper|delta|disMacro|discharge|  dk|economy|effective|elec|elecHeat|elecMeterLoad|enable|entering|enum|envizi_CCV|envizi_CCV2|envizi_HCV|envizi_HCV2|equip|  equipRef|exhaust| fan|fault|filter|gasMeterLoad|haystackConnRef|         haystackHis|haystackHisOld|heat|heating|help|his|              hisEnd| hisEndVal|hisErr|hisFunc|hisId|hisRollup|hisSize|            hisStart|hisStatus|hisTsPrecision| hot|humidity|hvac|imported|  kind|leaving|  levelRef| low|maxFlowSp| min|minFlowSp|minimum|             navName|nextTime|nextVal| occ|occSched|outside|point|pressure|projectAssetId|pump|       regionRef|return| run|schedule|sensor|sitePoint|siteRef|  sp|speed|stage|supply|targetType|temp|toBeDeleted|    tz|unit|valve| vav| vfd|water|waterMeterLoad|wetBulb|zone|                 mod|             value|\n",
      "+-------------------+----------+--------------------+--------------------+------+---+---------+-----------+---------+------+------+-----------+-------+-------+----+------+---------+----+------------+------+-----+--------+---------+----+-------+---------+----+--------+-------------+------+--------+----+----------+-----------+----------+-----------+-----+----------+-------+----+-----+------+------------+---------------+--------------------+--------------+----+-------+----+---+--------------------+----------+------+-------+-----+---------+-------+--------------------+---------+--------------+----+--------+----+--------+------+-------+----------+----+---------+----+---------+-------+--------------------+--------+-------+----+--------+-------+-----+--------+--------------+----+----------------+------+----+--------+------+---------+-------+----+-----+-----+------+----------+----+-----------+------+----+-----+----+----+-----+--------------+-------+----+--------------------+------------------+\n",
      "|1507679101000000000|ACU-2_SAPR|1.2893999814987183Pa|Site ACU 2 Supply...|  null|  1|        1|       null|     null|  null|  null|       null|   null|   null|null|  null|     null|null|        null|  null| null|    null|        1|null|   null|     null|null|    null|         null|  null|    null|null|      null|       null|      null|       null| null|Site ACU 2|   null|null| null|  null|        null|        GA_WEBS|H.Margaret_St_1.M...|          null|null|   null|null|  1|12-Oct-2017 Thu 0...|292.417 Pa|  null|   null|54.14|      max| 97,466|1-Jan-2015 Thu 00...|       ok|          null|null|    null|null|       1|Number|   null|Site Plant|null|     null|null|     null|   null|Supply Static Pre...|    null|   null|null|    null|   null|    1|       1|          null|null|Western Corridor|  null|null|    null|     1|     null|   Site|null| null| null|     1|      null|null|       null|Sydney|  Pa| null|null|null| null|          null|   null|null|12-Apr-2017 Wed 0...|1.2893999814987183|\n",
      "|1507680001000000000|ACU-2_SAPR|1.3430999517440796Pa|Site ACU 2 Supply...|  null|  1|        1|       null|     null|  null|  null|       null|   null|   null|null|  null|     null|null|        null|  null| null|    null|        1|null|   null|     null|null|    null|         null|  null|    null|null|      null|       null|      null|       null| null|Site ACU 2|   null|null| null|  null|        null|        GA_WEBS|H.Margaret_St_1.M...|          null|null|   null|null|  1|12-Oct-2017 Thu 0...|292.417 Pa|  null|   null|54.14|      max| 97,466|1-Jan-2015 Thu 00...|       ok|          null|null|    null|null|       1|Number|   null|Site Plant|null|     null|null|     null|   null|Supply Static Pre...|    null|   null|null|    null|   null|    1|       1|          null|null|Western Corridor|  null|null|    null|     1|     null|   Site|null| null| null|     1|      null|null|       null|Sydney|  Pa| null|null|null| null|          null|   null|null|12-Apr-2017 Wed 0...|1.3430999517440796|\n",
      "|1507680901000000000|ACU-2_SAPR| 2.140899896621704Pa|Site ACU 2 Supply...|  null|  1|        1|       null|     null|  null|  null|       null|   null|   null|null|  null|     null|null|        null|  null| null|    null|        1|null|   null|     null|null|    null|         null|  null|    null|null|      null|       null|      null|       null| null|Site ACU 2|   null|null| null|  null|        null|        GA_WEBS|H.Margaret_St_1.M...|          null|null|   null|null|  1|12-Oct-2017 Thu 0...|292.417 Pa|  null|   null|54.14|      max| 97,466|1-Jan-2015 Thu 00...|       ok|          null|null|    null|null|       1|Number|   null|Site Plant|null|     null|null|     null|   null|Supply Static Pre...|    null|   null|null|    null|   null|    1|       1|          null|null|Western Corridor|  null|null|    null|     1|     null|   Site|null| null| null|     1|      null|null|       null|Sydney|  Pa| null|null|null| null|          null|   null|null|12-Apr-2017 Wed 0...| 2.140899896621704|\n",
      "|1507681801000000000|ACU-2_SAPR|1.8432999849319458Pa|Site ACU 2 Supply...|  null|  1|        1|       null|     null|  null|  null|       null|   null|   null|null|  null|     null|null|        null|  null| null|    null|        1|null|   null|     null|null|    null|         null|  null|    null|null|      null|       null|      null|       null| null|Site ACU 2|   null|null| null|  null|        null|        GA_WEBS|H.Margaret_St_1.M...|          null|null|   null|null|  1|12-Oct-2017 Thu 0...|292.417 Pa|  null|   null|54.14|      max| 97,466|1-Jan-2015 Thu 00...|       ok|          null|null|    null|null|       1|Number|   null|Site Plant|null|     null|null|     null|   null|Supply Static Pre...|    null|   null|null|    null|   null|    1|       1|          null|null|Western Corridor|  null|null|    null|     1|     null|   Site|null| null| null|     1|      null|null|       null|Sydney|  Pa| null|null|null| null|          null|   null|null|12-Apr-2017 Wed 0...|1.8432999849319458|\n",
      "|1507682701000000000|ACU-2_SAPR|2.0785999298095703Pa|Site ACU 2 Supply...|  null|  1|        1|       null|     null|  null|  null|       null|   null|   null|null|  null|     null|null|        null|  null| null|    null|        1|null|   null|     null|null|    null|         null|  null|    null|null|      null|       null|      null|       null| null|Site ACU 2|   null|null| null|  null|        null|        GA_WEBS|H.Margaret_St_1.M...|          null|null|   null|null|  1|12-Oct-2017 Thu 0...|292.417 Pa|  null|   null|54.14|      max| 97,466|1-Jan-2015 Thu 00...|       ok|          null|null|    null|null|       1|Number|   null|Site Plant|null|     null|null|     null|   null|Supply Static Pre...|    null|   null|null|    null|   null|    1|       1|          null|null|Western Corridor|  null|null|    null|     1|     null|   Site|null| null| null|     1|      null|null|       null|Sydney|  Pa| null|null|null| null|          null|   null|null|12-Apr-2017 Wed 0...|2.0785999298095703|\n",
      "|1507683601000000000|ACU-2_SAPR|1.1464999914169312Pa|Site ACU 2 Supply...|  null|  1|        1|       null|     null|  null|  null|       null|   null|   null|null|  null|     null|null|        null|  null| null|    null|        1|null|   null|     null|null|    null|         null|  null|    null|null|      null|       null|      null|       null| null|Site ACU 2|   null|null| null|  null|        null|        GA_WEBS|H.Margaret_St_1.M...|          null|null|   null|null|  1|12-Oct-2017 Thu 0...|292.417 Pa|  null|   null|54.14|      max| 97,466|1-Jan-2015 Thu 00...|       ok|          null|null|    null|null|       1|Number|   null|Site Plant|null|     null|null|     null|   null|Supply Static Pre...|    null|   null|null|    null|   null|    1|       1|          null|null|Western Corridor|  null|null|    null|     1|     null|   Site|null| null| null|     1|      null|null|       null|Sydney|  Pa| null|null|null| null|          null|   null|null|12-Apr-2017 Wed 0...|1.1464999914169312|\n",
      "|1507684501000000000|ACU-2_SAPR|1.8589999675750732Pa|Site ACU 2 Supply...|  null|  1|        1|       null|     null|  null|  null|       null|   null|   null|null|  null|     null|null|        null|  null| null|    null|        1|null|   null|     null|null|    null|         null|  null|    null|null|      null|       null|      null|       null| null|Site ACU 2|   null|null| null|  null|        null|        GA_WEBS|H.Margaret_St_1.M...|          null|null|   null|null|  1|12-Oct-2017 Thu 0...|292.417 Pa|  null|   null|54.14|      max| 97,466|1-Jan-2015 Thu 00...|       ok|          null|null|    null|null|       1|Number|   null|Site Plant|null|     null|null|     null|   null|Supply Static Pre...|    null|   null|null|    null|   null|    1|       1|          null|null|Western Corridor|  null|null|    null|     1|     null|   Site|null| null| null|     1|      null|null|       null|Sydney|  Pa| null|null|null| null|          null|   null|null|12-Apr-2017 Wed 0...|1.8589999675750732|\n",
      "|1507685401000000000|ACU-2_SAPR|2.1635000705718994Pa|Site ACU 2 Supply...|  null|  1|        1|       null|     null|  null|  null|       null|   null|   null|null|  null|     null|null|        null|  null| null|    null|        1|null|   null|     null|null|    null|         null|  null|    null|null|      null|       null|      null|       null| null|Site ACU 2|   null|null| null|  null|        null|        GA_WEBS|H.Margaret_St_1.M...|          null|null|   null|null|  1|12-Oct-2017 Thu 0...|292.417 Pa|  null|   null|54.14|      max| 97,466|1-Jan-2015 Thu 00...|       ok|          null|null|    null|null|       1|Number|   null|Site Plant|null|     null|null|     null|   null|Supply Static Pre...|    null|   null|null|    null|   null|    1|       1|          null|null|Western Corridor|  null|null|    null|     1|     null|   Site|null| null| null|     1|      null|null|       null|Sydney|  Pa| null|null|null| null|          null|   null|null|12-Apr-2017 Wed 0...|2.1635000705718994|\n",
      "|1507686301000000000|ACU-2_SAPR|1.6698999404907227Pa|Site ACU 2 Supply...|  null|  1|        1|       null|     null|  null|  null|       null|   null|   null|null|  null|     null|null|        null|  null| null|    null|        1|null|   null|     null|null|    null|         null|  null|    null|null|      null|       null|      null|       null| null|Site ACU 2|   null|null| null|  null|        null|        GA_WEBS|H.Margaret_St_1.M...|          null|null|   null|null|  1|12-Oct-2017 Thu 0...|292.417 Pa|  null|   null|54.14|      max| 97,466|1-Jan-2015 Thu 00...|       ok|          null|null|    null|null|       1|Number|   null|Site Plant|null|     null|null|     null|   null|Supply Static Pre...|    null|   null|null|    null|   null|    1|       1|          null|null|Western Corridor|  null|null|    null|     1|     null|   Site|null| null| null|     1|      null|null|       null|Sydney|  Pa| null|null|null| null|          null|   null|null|12-Apr-2017 Wed 0...|1.6698999404907227|\n",
      "|1507687201000000000|ACU-2_SAPR| 1.427299976348877Pa|Site ACU 2 Supply...|  null|  1|        1|       null|     null|  null|  null|       null|   null|   null|null|  null|     null|null|        null|  null| null|    null|        1|null|   null|     null|null|    null|         null|  null|    null|null|      null|       null|      null|       null| null|Site ACU 2|   null|null| null|  null|        null|        GA_WEBS|H.Margaret_St_1.M...|          null|null|   null|null|  1|12-Oct-2017 Thu 0...|292.417 Pa|  null|   null|54.14|      max| 97,466|1-Jan-2015 Thu 00...|       ok|          null|null|    null|null|       1|Number|   null|Site Plant|null|     null|null|     null|   null|Supply Static Pre...|    null|   null|null|    null|   null|    1|       1|          null|null|Western Corridor|  null|null|    null|     1|     null|   Site|null| null| null|     1|      null|null|       null|Sydney|  Pa| null|null|null| null|          null|   null|null|12-Apr-2017 Wed 0...| 1.427299976348877|\n",
      "|1507688101000000000|ACU-2_SAPR|1.6203999519348145Pa|Site ACU 2 Supply...|  null|  1|        1|       null|     null|  null|  null|       null|   null|   null|null|  null|     null|null|        null|  null| null|    null|        1|null|   null|     null|null|    null|         null|  null|    null|null|      null|       null|      null|       null| null|Site ACU 2|   null|null| null|  null|        null|        GA_WEBS|H.Margaret_St_1.M...|          null|null|   null|null|  1|12-Oct-2017 Thu 0...|292.417 Pa|  null|   null|54.14|      max| 97,466|1-Jan-2015 Thu 00...|       ok|          null|null|    null|null|       1|Number|   null|Site Plant|null|     null|null|     null|   null|Supply Static Pre...|    null|   null|null|    null|   null|    1|       1|          null|null|Western Corridor|  null|null|    null|     1|     null|   Site|null| null| null|     1|      null|null|       null|Sydney|  Pa| null|null|null| null|          null|   null|null|12-Apr-2017 Wed 0...|1.6203999519348145|\n",
      "|1507689001000000000|ACU-2_SAPR|1.2680000066757202Pa|Site ACU 2 Supply...|  null|  1|        1|       null|     null|  null|  null|       null|   null|   null|null|  null|     null|null|        null|  null| null|    null|        1|null|   null|     null|null|    null|         null|  null|    null|null|      null|       null|      null|       null| null|Site ACU 2|   null|null| null|  null|        null|        GA_WEBS|H.Margaret_St_1.M...|          null|null|   null|null|  1|12-Oct-2017 Thu 0...|292.417 Pa|  null|   null|54.14|      max| 97,466|1-Jan-2015 Thu 00...|       ok|          null|null|    null|null|       1|Number|   null|Site Plant|null|     null|null|     null|   null|Supply Static Pre...|    null|   null|null|    null|   null|    1|       1|          null|null|Western Corridor|  null|null|    null|     1|     null|   Site|null| null| null|     1|      null|null|       null|Sydney|  Pa| null|null|null| null|          null|   null|null|12-Apr-2017 Wed 0...|1.2680000066757202|\n",
      "|1507689901000000000|ACU-2_SAPR|2.1173999309539795Pa|Site ACU 2 Supply...|  null|  1|        1|       null|     null|  null|  null|       null|   null|   null|null|  null|     null|null|        null|  null| null|    null|        1|null|   null|     null|null|    null|         null|  null|    null|null|      null|       null|      null|       null| null|Site ACU 2|   null|null| null|  null|        null|        GA_WEBS|H.Margaret_St_1.M...|          null|null|   null|null|  1|12-Oct-2017 Thu 0...|292.417 Pa|  null|   null|54.14|      max| 97,466|1-Jan-2015 Thu 00...|       ok|          null|null|    null|null|       1|Number|   null|Site Plant|null|     null|null|     null|   null|Supply Static Pre...|    null|   null|null|    null|   null|    1|       1|          null|null|Western Corridor|  null|null|    null|     1|     null|   Site|null| null| null|     1|      null|null|       null|Sydney|  Pa| null|null|null| null|          null|   null|null|12-Apr-2017 Wed 0...|2.1173999309539795|\n",
      "|1507690801000000000|ACU-2_SAPR|1.0232000350952148Pa|Site ACU 2 Supply...|  null|  1|        1|       null|     null|  null|  null|       null|   null|   null|null|  null|     null|null|        null|  null| null|    null|        1|null|   null|     null|null|    null|         null|  null|    null|null|      null|       null|      null|       null| null|Site ACU 2|   null|null| null|  null|        null|        GA_WEBS|H.Margaret_St_1.M...|          null|null|   null|null|  1|12-Oct-2017 Thu 0...|292.417 Pa|  null|   null|54.14|      max| 97,466|1-Jan-2015 Thu 00...|       ok|          null|null|    null|null|       1|Number|   null|Site Plant|null|     null|null|     null|   null|Supply Static Pre...|    null|   null|null|    null|   null|    1|       1|          null|null|Western Corridor|  null|null|    null|     1|     null|   Site|null| null| null|     1|      null|null|       null|Sydney|  Pa| null|null|null| null|          null|   null|null|12-Apr-2017 Wed 0...|1.0232000350952148|\n",
      "|1507691701000000000|ACU-2_SAPR|1.6868000030517578Pa|Site ACU 2 Supply...|  null|  1|        1|       null|     null|  null|  null|       null|   null|   null|null|  null|     null|null|        null|  null| null|    null|        1|null|   null|     null|null|    null|         null|  null|    null|null|      null|       null|      null|       null| null|Site ACU 2|   null|null| null|  null|        null|        GA_WEBS|H.Margaret_St_1.M...|          null|null|   null|null|  1|12-Oct-2017 Thu 0...|292.417 Pa|  null|   null|54.14|      max| 97,466|1-Jan-2015 Thu 00...|       ok|          null|null|    null|null|       1|Number|   null|Site Plant|null|     null|null|     null|   null|Supply Static Pre...|    null|   null|null|    null|   null|    1|       1|          null|null|Western Corridor|  null|null|    null|     1|     null|   Site|null| null| null|     1|      null|null|       null|Sydney|  Pa| null|null|null| null|          null|   null|null|12-Apr-2017 Wed 0...|1.6868000030517578|\n",
      "|1507692601000000000|ACU-2_SAPR|1.8672000169754028Pa|Site ACU 2 Supply...|  null|  1|        1|       null|     null|  null|  null|       null|   null|   null|null|  null|     null|null|        null|  null| null|    null|        1|null|   null|     null|null|    null|         null|  null|    null|null|      null|       null|      null|       null| null|Site ACU 2|   null|null| null|  null|        null|        GA_WEBS|H.Margaret_St_1.M...|          null|null|   null|null|  1|12-Oct-2017 Thu 0...|292.417 Pa|  null|   null|54.14|      max| 97,466|1-Jan-2015 Thu 00...|       ok|          null|null|    null|null|       1|Number|   null|Site Plant|null|     null|null|     null|   null|Supply Static Pre...|    null|   null|null|    null|   null|    1|       1|          null|null|Western Corridor|  null|null|    null|     1|     null|   Site|null| null| null|     1|      null|null|       null|Sydney|  Pa| null|null|null| null|          null|   null|null|12-Apr-2017 Wed 0...|1.8672000169754028|\n",
      "|1507693501000000000|ACU-2_SAPR|1.2599999904632568Pa|Site ACU 2 Supply...|  null|  1|        1|       null|     null|  null|  null|       null|   null|   null|null|  null|     null|null|        null|  null| null|    null|        1|null|   null|     null|null|    null|         null|  null|    null|null|      null|       null|      null|       null| null|Site ACU 2|   null|null| null|  null|        null|        GA_WEBS|H.Margaret_St_1.M...|          null|null|   null|null|  1|12-Oct-2017 Thu 0...|292.417 Pa|  null|   null|54.14|      max| 97,466|1-Jan-2015 Thu 00...|       ok|          null|null|    null|null|       1|Number|   null|Site Plant|null|     null|null|     null|   null|Supply Static Pre...|    null|   null|null|    null|   null|    1|       1|          null|null|Western Corridor|  null|null|    null|     1|     null|   Site|null| null| null|     1|      null|null|       null|Sydney|  Pa| null|null|null| null|          null|   null|null|12-Apr-2017 Wed 0...|1.2599999904632568|\n",
      "|1507694401000000000|ACU-2_SAPR|1.3300000429153442Pa|Site ACU 2 Supply...|  null|  1|        1|       null|     null|  null|  null|       null|   null|   null|null|  null|     null|null|        null|  null| null|    null|        1|null|   null|     null|null|    null|         null|  null|    null|null|      null|       null|      null|       null| null|Site ACU 2|   null|null| null|  null|        null|        GA_WEBS|H.Margaret_St_1.M...|          null|null|   null|null|  1|12-Oct-2017 Thu 0...|292.417 Pa|  null|   null|54.14|      max| 97,466|1-Jan-2015 Thu 00...|       ok|          null|null|    null|null|       1|Number|   null|Site Plant|null|     null|null|     null|   null|Supply Static Pre...|    null|   null|null|    null|   null|    1|       1|          null|null|Western Corridor|  null|null|    null|     1|     null|   Site|null| null| null|     1|      null|null|       null|Sydney|  Pa| null|null|null| null|          null|   null|null|12-Apr-2017 Wed 0...|1.3300000429153442|\n",
      "|1507695301000000000|ACU-2_SAPR| 1.500499963760376Pa|Site ACU 2 Supply...|  null|  1|        1|       null|     null|  null|  null|       null|   null|   null|null|  null|     null|null|        null|  null| null|    null|        1|null|   null|     null|null|    null|         null|  null|    null|null|      null|       null|      null|       null| null|Site ACU 2|   null|null| null|  null|        null|        GA_WEBS|H.Margaret_St_1.M...|          null|null|   null|null|  1|12-Oct-2017 Thu 0...|292.417 Pa|  null|   null|54.14|      max| 97,466|1-Jan-2015 Thu 00...|       ok|          null|null|    null|null|       1|Number|   null|Site Plant|null|     null|null|     null|   null|Supply Static Pre...|    null|   null|null|    null|   null|    1|       1|          null|null|Western Corridor|  null|null|    null|     1|     null|   Site|null| null| null|     1|      null|null|       null|Sydney|  Pa| null|null|null| null|          null|   null|null|12-Apr-2017 Wed 0...| 1.500499963760376|\n",
      "|1507696201000000000|ACU-2_SAPR|1.8623000383377075Pa|Site ACU 2 Supply...|  null|  1|        1|       null|     null|  null|  null|       null|   null|   null|null|  null|     null|null|        null|  null| null|    null|        1|null|   null|     null|null|    null|         null|  null|    null|null|      null|       null|      null|       null| null|Site ACU 2|   null|null| null|  null|        null|        GA_WEBS|H.Margaret_St_1.M...|          null|null|   null|null|  1|12-Oct-2017 Thu 0...|292.417 Pa|  null|   null|54.14|      max| 97,466|1-Jan-2015 Thu 00...|       ok|          null|null|    null|null|       1|Number|   null|Site Plant|null|     null|null|     null|   null|Supply Static Pre...|    null|   null|null|    null|   null|    1|       1|          null|null|Western Corridor|  null|null|    null|     1|     null|   Site|null| null| null|     1|      null|null|       null|Sydney|  Pa| null|null|null| null|          null|   null|null|12-Apr-2017 Wed 0...|1.8623000383377075|\n",
      "+-------------------+----------+--------------------+--------------------+------+---+---------+-----------+---------+------+------+-----------+-------+-------+----+------+---------+----+------------+------+-----+--------+---------+----+-------+---------+----+--------+-------------+------+--------+----+----------+-----------+----------+-----------+-----+----------+-------+----+-----+------+------------+---------------+--------------------+--------------+----+-------+----+---+--------------------+----------+------+-------+-----+---------+-------+--------------------+---------+--------------+----+--------+----+--------+------+-------+----------+----+---------+----+---------+-------+--------------------+--------+-------+----+--------+-------+-----+--------+--------------+----+----------------+------+----+--------+------+---------+-------+----+-----+-----+------+----------+----+-----------+------+----+-----+----+----+-----+--------------+-------+----+--------------------+------------------+\n",
      "only showing top 20 rows\n",
      "\n"
     ]
    }
   ],
   "source": [
    "from pyspark.sql.functions import udf, col\n",
    "def clean_raw_value(value, unit, kind):\n",
    "    # todo write logic\n",
    "    if \"Bool\" == kind:\n",
    "        if \"true\" == value:\n",
    "            return 1.0\n",
    "        else:\n",
    "            return 0.0\n",
    "    else:\n",
    "        return float(value.replace(unit,\"\").strip())\n",
    "\n",
    "clean_udf = udf(lambda value, unit, kind: clean_raw_value(value, unit, kind), DoubleType())\n",
    "joined_his_df = joined_his_df.withColumn(\"value\", clean_udf(col(\"raw_value\"), col(\"unit\"), col(\"kind\")))\n",
    "joined_his_df.show()"
   ]
  },
  {
   "cell_type": "code",
   "execution_count": 17,
   "metadata": {},
   "outputs": [
    {
     "name": "stdout",
     "output_type": "stream",
     "text": [
      "root\n",
      " |-- datetime: long (nullable = false)\n",
      " |-- pointName: string (nullable = false)\n",
      " |-- id: string (nullable = true)\n",
      " |-- ahuRef: string (nullable = true)\n",
      " |-- air: string (nullable = true)\n",
      " |-- analytics: string (nullable = true)\n",
      " |-- armsAssetId: string (nullable = true)\n",
      " |-- averazing: string (nullable = true)\n",
      " |-- boiler: string (nullable = true)\n",
      " |-- bypass: string (nullable = true)\n",
      " |-- calendarRef: string (nullable = true)\n",
      " |-- chilled: string (nullable = true)\n",
      " |-- chiller: string (nullable = true)\n",
      " |-- cmd: string (nullable = true)\n",
      " |-- common: string (nullable = true)\n",
      " |-- condenser: string (nullable = true)\n",
      " |-- cool: string (nullable = true)\n",
      " |-- coolingTower: string (nullable = true)\n",
      " |-- damper: string (nullable = true)\n",
      " |-- delta: string (nullable = true)\n",
      " |-- disMacro: string (nullable = true)\n",
      " |-- discharge: string (nullable = true)\n",
      " |-- dk: string (nullable = true)\n",
      " |-- economy: string (nullable = true)\n",
      " |-- effective: string (nullable = true)\n",
      " |-- elec: string (nullable = true)\n",
      " |-- elecHeat: string (nullable = true)\n",
      " |-- elecMeterLoad: string (nullable = true)\n",
      " |-- enable: string (nullable = true)\n",
      " |-- entering: string (nullable = true)\n",
      " |-- enum: string (nullable = true)\n",
      " |-- envizi_CCV: string (nullable = true)\n",
      " |-- envizi_CCV2: string (nullable = true)\n",
      " |-- envizi_HCV: string (nullable = true)\n",
      " |-- envizi_HCV2: string (nullable = true)\n",
      " |-- equip: string (nullable = true)\n",
      " |-- equipRef: string (nullable = true)\n",
      " |-- exhaust: string (nullable = true)\n",
      " |-- fan: string (nullable = true)\n",
      " |-- fault: string (nullable = true)\n",
      " |-- filter: string (nullable = true)\n",
      " |-- gasMeterLoad: string (nullable = true)\n",
      " |-- haystackConnRef: string (nullable = true)\n",
      " |-- haystackHis: string (nullable = true)\n",
      " |-- haystackHisOld: string (nullable = true)\n",
      " |-- heat: string (nullable = true)\n",
      " |-- heating: string (nullable = true)\n",
      " |-- help: string (nullable = true)\n",
      " |-- his: string (nullable = true)\n",
      " |-- hisEnd: string (nullable = true)\n",
      " |-- hisEndVal: string (nullable = true)\n",
      " |-- hisErr: string (nullable = true)\n",
      " |-- hisFunc: string (nullable = true)\n",
      " |-- hisId: double (nullable = true)\n",
      " |-- hisRollup: string (nullable = true)\n",
      " |-- hisSize: string (nullable = true)\n",
      " |-- hisStart: string (nullable = true)\n",
      " |-- hisStatus: string (nullable = true)\n",
      " |-- hisTsPrecision: string (nullable = true)\n",
      " |-- hot: string (nullable = true)\n",
      " |-- humidity: string (nullable = true)\n",
      " |-- hvac: string (nullable = true)\n",
      " |-- imported: string (nullable = true)\n",
      " |-- kind: string (nullable = true)\n",
      " |-- leaving: string (nullable = true)\n",
      " |-- levelRef: string (nullable = true)\n",
      " |-- low: string (nullable = true)\n",
      " |-- maxFlowSp: string (nullable = true)\n",
      " |-- min: string (nullable = true)\n",
      " |-- minFlowSp: string (nullable = true)\n",
      " |-- minimum: string (nullable = true)\n",
      " |-- navName: string (nullable = true)\n",
      " |-- nextTime: string (nullable = true)\n",
      " |-- nextVal: string (nullable = true)\n",
      " |-- occ: string (nullable = true)\n",
      " |-- occSched: string (nullable = true)\n",
      " |-- outside: string (nullable = true)\n",
      " |-- point: string (nullable = true)\n",
      " |-- pressure: string (nullable = true)\n",
      " |-- projectAssetId: string (nullable = true)\n",
      " |-- pump: string (nullable = true)\n",
      " |-- regionRef: string (nullable = true)\n",
      " |-- return: string (nullable = true)\n",
      " |-- run: string (nullable = true)\n",
      " |-- schedule: string (nullable = true)\n",
      " |-- sensor: string (nullable = true)\n",
      " |-- sitePoint: string (nullable = true)\n",
      " |-- siteRef: string (nullable = true)\n",
      " |-- sp: string (nullable = true)\n",
      " |-- speed: string (nullable = true)\n",
      " |-- stage: string (nullable = true)\n",
      " |-- supply: string (nullable = true)\n",
      " |-- targetType: string (nullable = true)\n",
      " |-- temp: string (nullable = true)\n",
      " |-- toBeDeleted: string (nullable = true)\n",
      " |-- tz: string (nullable = true)\n",
      " |-- unit: string (nullable = true)\n",
      " |-- valve: string (nullable = true)\n",
      " |-- vav: string (nullable = true)\n",
      " |-- vfd: string (nullable = true)\n",
      " |-- water: string (nullable = true)\n",
      " |-- waterMeterLoad: string (nullable = true)\n",
      " |-- wetBulb: string (nullable = true)\n",
      " |-- zone: string (nullable = true)\n",
      " |-- mod: string (nullable = true)\n",
      " |-- value: double (nullable = true)\n",
      "\n"
     ]
    }
   ],
   "source": [
    "joined_his_df = joined_his_df.drop(\"raw_value\")\n",
    "joined_his_df.printSchema()"
   ]
  },
  {
   "cell_type": "code",
   "execution_count": 18,
   "metadata": {},
   "outputs": [],
   "source": [
    "import hashlib\n",
    "from pyspark.sql.functions import lit\n",
    "\n",
    "def generate_id(siteRef, levelRef, point, separator):\n",
    "    return hashlib.md5(separator.join([siteRef, levelRef, point]).encode()).hexdigest()\n",
    "    \n",
    "generate_id_udf = udf(lambda siteRef, levelRef, point, separator: generate_id(siteRef, levelRef, point, separator), StringType())\n",
    "\n",
    "joined_his_df = joined_his_df.withColumn(\"pointId\", generate_id_udf(col(\"siteRef\"), col(\"levelRef\"), col(\"pointName\"), lit(\":\")))"
   ]
  },
  {
   "cell_type": "code",
   "execution_count": 23,
   "metadata": {},
   "outputs": [
    {
     "name": "stdout",
     "output_type": "stream",
     "text": [
      "root\n",
      " |-- datetime: long (nullable = false)\n",
      " |-- yearMonth: string (nullable = true)\n",
      " |-- pointName: string (nullable = false)\n",
      " |-- siteRef: string (nullable = true)\n",
      " |-- levelRef: string (nullable = true)\n",
      " |-- equipRef: string (nullable = true)\n",
      " |-- value: double (nullable = true)\n",
      "\n"
     ]
    }
   ],
   "source": [
    "def get_year_month(val):\n",
    "    return datetime.datetime.fromtimestamp(val/(1000*1000*1000)).strftime(\"%Y-%m\")\n",
    "    \n",
    "year_month_udf = udf(lambda date_val: get_year_month(date_val), StringType())\n",
    "final_df = joined_his_df.withColumn(\"yearMonth\", year_month_udf(col(\"datetime\"))) # generating partition key as using only siteRef as partition may produce to large partition and cassandra partition should be < 1 GB\n",
    "final_df = final_df.select(\"datetime\", \"yearMonth\", \"pointName\", \"siteRef\", \"levelRef\", \"equipRef\", \"value\")\n",
    "final_df.printSchema()"
   ]
  },
  {
   "cell_type": "code",
   "execution_count": 26,
   "metadata": {},
   "outputs": [],
   "source": [
    "final_df.write.parquet(\"timeseries/output/metadataLessHistory.parquet\", mode=\"overwrite\")"
   ]
  },
  {
   "cell_type": "code",
   "execution_count": 27,
   "metadata": {},
   "outputs": [
    {
     "data": {
      "text/plain": [
       "21952"
      ]
     },
     "execution_count": 27,
     "output_type": "execute_result",
     "metadata": {}
    }
   ],
   "source": [
    "finalDF = sqlContext.read.parquet(\"timeseries/output/metadataLessHistory.parquet\")\n",
    "finalDF.count()"
   ]
  },
  {
   "cell_type": "code",
   "execution_count": 29,
   "metadata": {},
   "outputs": [],
   "source": [
    "#writing into filodb using native api\n",
    "finalDF.write.format(\"filodb.spark\") \\\n",
    "        .option(\"dataset\", \"iot_history_metaless\") \\\n",
    "        .option(\"partition_keys\", \"siteRef,yearMonth\") \\\n",
    "        .option(\"row_keys\", \"datetime,pointName,equipRef,levelRef\") \\\n",
    "        .option(\"chunk_size\", \"100\") \\\n",
    "        .mode(\"overwrite\") \\\n",
    "        .save()"
   ]
  },
  {
   "cell_type": "code",
   "execution_count": 31,
   "metadata": {},
   "outputs": [
    {
     "name": "stdout",
     "output_type": "stream",
     "text": [
      "+-------------+--------------+-------------------+----------+-------+---------+-----+\n",
      "|    pointName|      equipRef|           datetime|  levelRef|siteRef|yearMonth|value|\n",
      "+-------------+--------------+-------------------+----------+-------+---------+-----+\n",
      "|Chiller-2_STS|Site Chiller 2|1507046744000000000|Site Plant|   Site|  2017-10|  0.0|\n",
      "|Chiller-2_ENB|Site Chiller 2|1507050417000000000|Site Plant|   Site|  2017-10|  0.0|\n",
      "|   CDWP-2_ENB|   Site CDWP 2|1507050476000000000|Site Plant|   Site|  2017-10|  0.0|\n",
      "|   CDWP-2_STS|   Site CDWP 2|1507050489000000000|Site Plant|   Site|  2017-10|  0.0|\n",
      "|   CHWP-2_ENB|   Site CHWP 2|1507050535000000000|Site Plant|   Site|  2017-10|  0.0|\n",
      "|   CHWP-2_STS|   Site CHWP 2|1507050551000000000|Site Plant|   Site|  2017-10|  0.0|\n",
      "| Boiler-1_STS| Site Boiler 1|1507544565000000000|Site Plant|   Site|  2017-10|  0.0|\n",
      "|    HWP-8_STS|    Site HWP 8|1507544634000000000|Site Plant|   Site|  2017-10|  0.0|\n",
      "| Boiler-2_STS| Site Boiler 2|1507545158000000000|Site Plant|   Site|  2017-10|  0.0|\n",
      "|    HWP-9_STS|    Site HWP 9|1507545171000000000|Site Plant|   Site|  2017-10|  0.0|\n",
      "|    ACU-5_ECD|    Site ACU 5|1507591359000000000|Site Plant|   Site|  2017-10|  0.0|\n",
      "|Chiller-1_ENB|Site Chiller 1|1507655465000000000|Site Plant|   Site|  2017-10|  0.0|\n",
      "|Chiller-1_STS|Site Chiller 1|1507655471000000000|Site Plant|   Site|  2017-10|  0.0|\n",
      "|   CDWP-1_ENB|   Site CDWP 1|1507655525000000000|Site Plant|   Site|  2017-10|  0.0|\n",
      "|   CDWP-1_STS|   Site CDWP 1|1507655538000000000|Site Plant|   Site|  2017-10|  0.0|\n",
      "|   CHWP-1_ENB|   Site CHWP 1|1507655583000000000|Site Plant|   Site|  2017-10|  0.0|\n",
      "|   CHWP-1_STS|   Site CHWP 1|1507655598000000000|Site Plant|   Site|  2017-10|  0.0|\n",
      "|    ACU-4_ECD|    Site ACU 4|1507658429000000000|Site Plant|   Site|  2017-10|  0.0|\n",
      "|Chiller-3_ENB|Site Chiller 3|1507658429000000000|Site Plant|   Site|  2017-10|  0.0|\n",
      "|    ACU-5_ENB|    Site ACU 5|1507658453000000000|Site Plant|   Site|  2017-10|  0.0|\n",
      "+-------------+--------------+-------------------+----------+-------+---------+-----+\n",
      "only showing top 20 rows\n",
      "\n"
     ]
    }
   ],
   "source": [
    "iotDF = sqlContext.read.format(\"filodb.spark\").option(\"dataset\", \"iot_history_metaless\").load()\n",
    "iotDF.count()\n",
    "iotDF.show()"
   ]
  },
  {
   "cell_type": "code",
   "execution_count": null,
   "metadata": {},
   "outputs": [],
   "source": [
    ""
   ]
  }
 ],
 "metadata": {
  "kernelspec": {
   "display_name": "Python 3",
   "language": "python",
   "name": "python3"
  },
  "language_info": {
   "codemirror_mode": {
    "name": "ipython",
    "version": 3.0
   },
   "file_extension": ".py",
   "mimetype": "text/x-python",
   "name": "python",
   "nbconvert_exporter": "python",
   "pygments_lexer": "ipython3",
   "version": "3.4.3"
  }
 },
 "nbformat": 4,
 "nbformat_minor": 2
}